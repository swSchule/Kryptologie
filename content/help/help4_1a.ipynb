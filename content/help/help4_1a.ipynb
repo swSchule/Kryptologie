{
 "cells": [
  {
   "cell_type": "markdown",
   "id": "5390d06d-e49f-498d-8769-1b9dd8220fd0",
   "metadata": {
    "deletable": false,
    "editable": false
   },
   "source": [
    "# Tipp 1 | e wählen"
   ]
  },
  {
   "cell_type": "markdown",
   "id": "ee6309bd-4986-436e-aa33-3523ff510670",
   "metadata": {
    "deletable": false,
    "editable": false
   },
   "source": [
    "Die Bedingung für **e** lautet:\n",
    " \n",
    " $1<e<\\phi(N)$ und $\\mathrm{ggT}(e,\\phi(N))=1$.\n",
    "\n",
    " Überlege dir, was dein $\\phi (N)$ ist, wähle eine Zahl, die kleiner ist und überprüfe den $\\mathrm{ggT}$.\n",
    " \n",
    " Welche Zahlen sind hier sinnvoll zu wählen?"
   ]
  },
  {
   "cell_type": "markdown",
   "id": "afce3849-5390-49b5-b015-68755f5896d7",
   "metadata": {
    "deletable": false,
    "editable": false
   },
   "source": [
    "\n",
    "\n",
    "Falls du einen weiteren Tipp benötigst, klicke [**hier**](help4_1aa.ipynb) bekommen."
   ]
  }
 ],
 "metadata": {
  "kernelspec": {
   "display_name": "julia 1.9.3",
   "language": "julia",
   "name": "julia-1.9"
  },
  "language_info": {
   "file_extension": ".jl",
   "mimetype": "application/julia",
   "name": "julia",
   "version": "1.9.3"
  }
 },
 "nbformat": 4,
 "nbformat_minor": 5
}
