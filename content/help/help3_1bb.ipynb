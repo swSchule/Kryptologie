{
 "cells": [
  {
   "cell_type": "markdown",
   "id": "5390d06d-e49f-498d-8769-1b9dd8220fd0",
   "metadata": {
    "deletable": false,
    "editable": false
   },
   "source": [
    "# Tipp 1 | Restklassen"
   ]
  },
  {
   "cell_type": "markdown",
   "id": "ee6309bd-4986-436e-aa33-3523ff510670",
   "metadata": {
    "deletable": false,
    "editable": false
   },
   "source": [
    "Überlege dir wie viele Töpfe es in diesem Fall gibt. \n",
    "\n",
    "In welchem Topf ist die $26$? Weshalb ist sie in diesm Topf?\n",
    "\n",
    "Welche Zahlen müssen also auch noch in diesem Topf sein?"
   ]
  }
 ],
 "metadata": {
  "kernelspec": {
   "display_name": "Python 3 (ipykernel)",
   "language": "python",
   "name": "python3"
  },
  "language_info": {
   "codemirror_mode": {
    "name": "ipython",
    "version": 3
   },
   "file_extension": ".py",
   "mimetype": "text/x-python",
   "name": "python",
   "nbconvert_exporter": "python",
   "pygments_lexer": "ipython3",
   "version": "3.10.12"
  }
 },
 "nbformat": 4,
 "nbformat_minor": 5
}
