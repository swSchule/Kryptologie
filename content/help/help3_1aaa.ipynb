{
 "cells": [
  {
   "cell_type": "markdown",
   "id": "5390d06d-e49f-498d-8769-1b9dd8220fd0",
   "metadata": {
    "deletable": false,
    "editable": false
   },
   "source": [
    "# Tipp 2 | Wochentag"
   ]
  },
  {
   "cell_type": "markdown",
   "id": "8914d0c6-7452-4ed3-b1db-701d49db9ebe",
   "metadata": {
    "deletable": false,
    "editable": false
   },
   "source": [
    "$134=70+64=7\\cdot10+63$\n",
    "\n",
    "da  $7 \\equiv 70 $, schauen wir uns die $64$ an.\n",
    "\n",
    "$64=63+1= 7\\cdot9+1$\n",
    "\n",
    "also ist $134\\equiv 64 \\equiv 1$\n",
    "\n",
    "Nun kannst du den richtigen Wochentag bestimmen."
   ]
  }
 ],
 "metadata": {
  "kernelspec": {
   "display_name": "julia 1.9.3",
   "language": "julia",
   "name": "julia-1.9"
  },
  "language_info": {
   "codemirror_mode": {
    "name": "ipython",
    "version": 3
   },
   "file_extension": ".py",
   "mimetype": "text/x-python",
   "name": "python",
   "nbconvert_exporter": "python",
   "pygments_lexer": "ipython3",
   "version": "3.10.12"
  }
 },
 "nbformat": 4,
 "nbformat_minor": 5
}
