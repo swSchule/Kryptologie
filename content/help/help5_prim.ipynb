{
 "cells": [
  {
   "cell_type": "markdown",
   "id": "5390d06d-e49f-498d-8769-1b9dd8220fd0",
   "metadata": {
    "deletable": false,
    "editable": false
   },
   "source": [
    "# Tipp  | Primzahlen bis 200"
   ]
  },
  {
   "cell_type": "markdown",
   "id": "ee6309bd-4986-436e-aa33-3523ff510670",
   "metadata": {
    "deletable": false,
    "editable": false
   },
   "source": [
    "\n",
    "| | | | | | | | \n",
    "| :---: | :---: | :---: | :---: | :---: | :---: | :---: |\n",
    "| 2 | 3 | 5 | 7 | 11 | 13 | 17 |\r\n",
    "| 19 | 23 | 29 | 31 | 37 | 41 | 43 |\r\n",
    "| 47 | 53 | 59 | 61 | 67 | 71 | 73 |\r\n",
    "| 79 | 83 | 89 | 97 | 101 | 103 | 107 |\r\n",
    "| 109 | 113 | 127 | 131 | 137 | 139 | 149 |\r\n",
    "| 151 | 157 | 163 | 167 | 173 | 179 | 181 |\r\n",
    "| 191 | 193 | 197 | | | | | - |\r\n"
   ]
  }
 ],
 "metadata": {
  "kernelspec": {
   "display_name": "julia 1.9.3",
   "language": "julia",
   "name": "julia-1.9"
  },
  "language_info": {
   "file_extension": ".jl",
   "mimetype": "application/julia",
   "name": "julia",
   "version": "1.9.3"
  }
 },
 "nbformat": 4,
 "nbformat_minor": 5
}
