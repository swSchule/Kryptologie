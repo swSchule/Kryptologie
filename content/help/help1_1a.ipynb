{
 "cells": [
  {
   "cell_type": "markdown",
   "id": "5390d06d-e49f-498d-8769-1b9dd8220fd0",
   "metadata": {
    "deletable": false,
    "editable": false
   },
   "source": [
    "# Tipp 1 | Caesar-Verschlüsselung"
   ]
  },
  {
   "cell_type": "markdown",
   "id": "ee6309bd-4986-436e-aa33-3523ff510670",
   "metadata": {
    "deletable": false,
    "editable": false
   },
   "source": [
    "Unser gegebener **Schlüssel** ist in diesem Beispiel **3**. Also wird jeder Buchstabe des Alphabets um **3** Positionen nach hinten verschoben verschoben.\n",
    "\n",
    "<img src=\"figs/help_caesarshift.jpg\" alt=\"Zuordnung der Buchstaben bei der Caesar Verschlüsselung\" style=\"width: 800px;\"/>\n",
    "\n",
    "Damit wird die Nachricht verschlüsselt. Die neue Zuordnung sieht dann folgendermaßen aus:\n",
    "\n",
    "<img src=\"figs/help_caesarnew.jpg\" alt=\"neue Zuordnung der Buchstaben\" style=\"width: 800px;\"/>\n",
    "\n",
    "\n",
    "\n",
    "Falls du weitere Hilfe benötigst, kann du hier einen [**Tipp**](help1_1aa.ipynb) bekommen."
   ]
  }
 ],
 "metadata": {
  "kernelspec": {
   "display_name": "Julia 1.8.5",
   "language": "julia",
   "name": "julia-1.8"
  },
  "language_info": {
   "file_extension": ".jl",
   "mimetype": "application/julia",
   "name": "julia",
   "version": "1.8.5"
  }
 },
 "nbformat": 4,
 "nbformat_minor": 5
}
