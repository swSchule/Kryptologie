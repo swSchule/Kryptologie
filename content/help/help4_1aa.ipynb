{
 "cells": [
  {
   "cell_type": "markdown",
   "id": "5390d06d-e49f-498d-8769-1b9dd8220fd0",
   "metadata": {
    "deletable": false,
    "editable": false
   },
   "source": [
    "# Tipp 2 | e wählen"
   ]
  },
  {
   "cell_type": "markdown",
   "id": "ee6309bd-4986-436e-aa33-3523ff510670",
   "metadata": {
    "deletable": false,
    "editable": false
   },
   "source": [
    "Welche Zahlen haben nur sich selbst und die $1$ als Teiler?\n",
    "\n",
    "Versuche es damit.\n",
    " "
   ]
  }
 ],
 "metadata": {
  "kernelspec": {
   "display_name": "julia 1.9.3",
   "language": "julia",
   "name": "julia-1.9"
  },
  "language_info": {
   "file_extension": ".jl",
   "mimetype": "application/julia",
   "name": "julia",
   "version": "1.9.3"
  }
 },
 "nbformat": 4,
 "nbformat_minor": 5
}
