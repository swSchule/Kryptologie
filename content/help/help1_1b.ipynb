{
 "cells": [
  {
   "cell_type": "markdown",
   "id": "5390d06d-e49f-498d-8769-1b9dd8220fd0",
   "metadata": {
    "deletable": false,
    "editable": false
   },
   "source": [
    "# Tipp 1 | Caesar-Scheibe"
   ]
  },
  {
   "cell_type": "markdown",
   "id": "ee6309bd-4986-436e-aa33-3523ff510670",
   "metadata": {
    "deletable": false,
    "editable": false
   },
   "source": [
    "Um den richtigen Schlüssel herauszufinden, kannst du die interaktive Caesar-Scheibe beliebig drehen und ausprobieren, ob ein sinnvolles Wort dabei entsteht.\n",
    "\n",
    "Gehe dabei systematisch vor."
   ]
  }
 ],
 "metadata": {
  "kernelspec": {
   "display_name": "Julia 1.8.5",
   "language": "julia",
   "name": "julia-1.8"
  },
  "language_info": {
   "file_extension": ".jl",
   "mimetype": "application/julia",
   "name": "julia",
   "version": "1.8.5"
  }
 },
 "nbformat": 4,
 "nbformat_minor": 5
}
