{
 "cells": [
  {
   "cell_type": "markdown",
   "id": "5390d06d-e49f-498d-8769-1b9dd8220fd0",
   "metadata": {
    "deletable": false,
    "editable": false
   },
   "source": [
    "# Tipp AB3 1b | ggT bestimmen"
   ]
  },
  {
   "cell_type": "markdown",
   "id": "54a1101e-d307-4625-bbf4-4639bd6b6b01",
   "metadata": {
    "deletable": false,
    "editable": false
   },
   "source": [
    "### 1. **Bestimme $ggT(9,12)=?$**\n",
    "\n",
    "Um den ggT zu bestimmen, schaust du dir die Primfaktorzerlegung der beiden Zahlen an.\n",
    "\n",
    "$9=3*3$\n",
    "\n",
    "$12=2*2*3$\n",
    "\n",
    "\n",
    "Nun suchst du alle Zahlen, welche in beiden Primfaktorzerlegungen vorkommen. Dies ist in diesem Fall nur die $3$.\n",
    "\n",
    "Also ist der $ggT(9,12)=3$.\n",
    "\n",
    "### 2. **Bestimme $ggT(4,20)=?$**\n",
    "Bestimme die Primfaktorzerlegung:\n",
    "\n",
    "$4=2*2$\n",
    "\n",
    "$20=2*2*5$\n",
    "\n",
    "Suche alle gemeinsamen Primfaktoren: $2*2=4$\n",
    "\n",
    "Also ist der $ggT(4,20)=4$.\n",
    "\n",
    "### 3. **Bestimme $ggT(3,4)=?$**\n",
    "\n",
    "Gibt es keine gemeinsamen Primfaktoren, so sind die Zahlen **teilerfremd** und haben den $ggT(3,4)=1$."
   ]
  }
 ],
 "metadata": {
  "kernelspec": {
   "display_name": "Julia 1.8.5",
   "language": "julia",
   "name": "julia-1.8"
  },
  "language_info": {
   "file_extension": ".jl",
   "mimetype": "application/julia",
   "name": "julia",
   "version": "1.8.5"
  }
 },
 "nbformat": 4,
 "nbformat_minor": 5
}
