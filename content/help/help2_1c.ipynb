{
 "cells": [
  {
   "cell_type": "markdown",
   "id": "5390d06d-e49f-498d-8769-1b9dd8220fd0",
   "metadata": {
    "deletable": false,
    "editable": false
   },
   "source": [
    "# Tipp 1 | ggT bestimmen"
   ]
  },
  {
   "cell_type": "markdown",
   "id": "45521517-9aed-4b0d-aeaf-3f8f009b191f",
   "metadata": {
    "deletable": false,
    "editable": false
   },
   "source": [
    "Nutze die Primfaktorzerlegung, um den ggT zu bestimmen."
   ]
  },
  {
   "cell_type": "markdown",
   "id": "3ea7a730-3c95-4c4e-8749-ef9817c0e51a",
   "metadata": {
    "deletable": false,
    "editable": false
   },
   "source": [
    "____\n",
    "Falls du einen weiteren Tipp benötigst, klicke [**hier**](help2_1cc.ipynb)."
   ]
  }
 ],
 "metadata": {
  "kernelspec": {
   "display_name": "Julia 1.8.5",
   "language": "julia",
   "name": "julia-1.8"
  },
  "language_info": {
   "file_extension": ".jl",
   "mimetype": "application/julia",
   "name": "julia",
   "version": "1.8.5"
  }
 },
 "nbformat": 4,
 "nbformat_minor": 5
}
