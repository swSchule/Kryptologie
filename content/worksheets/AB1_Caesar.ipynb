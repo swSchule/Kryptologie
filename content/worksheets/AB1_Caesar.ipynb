{
 "cells": [
  {
   "cell_type": "markdown",
   "id": "e9389752-1db7-4d26-a6ee-ad7314c2a4d4",
   "metadata": {
    "deletable": false,
    "editable": false
   },
   "source": [
    "# Aufgabenblatt 1 | Das Caesar-Verfahren\n",
    "______________"
   ]
  },
  {
   "cell_type": "markdown",
   "id": "0417428d-a06b-4be7-9f18-febe619b5ab7",
   "metadata": {
    "deletable": false,
    "editable": false
   },
   "source": [
    "## Einleitung "
   ]
  },
  {
   "cell_type": "markdown",
   "id": "7fc99ad5-18a0-44d6-b858-a1c529cef9c6",
   "metadata": {
    "deletable": false,
    "editable": false
   },
   "source": [
    "Im Alltag begegnet uns an vielen Stellen eine Verschlüsselung. Sei es, wenn wir Emails verschicken, Nachrichten an unsere Freunde senden, Daten abspeichern, online etwas einkaufen oder Social Media nutzen.\n",
    "Doch wie sicher ist das eigentlich alles und was steckt dahinter? Über die letzten Jahrhunderte wurden immer wieder neue Verschlüsselungsverfahren entwickelt und ausgetestet.\n",
    "Wir werden uns mit drei verschiedenen dieser Verfahren beschäftigen.\n",
    "\n",
    "Das grundlegende Prinzip ist immer, dass ein **Sender** (meistens Alice genannt) einen **Klartext** mit einem **Schlüssel** in einen **Geheimtext** umgewandelt - also **verschlüsselt**. Dieser Geheimtext wird dann an den **Empfänger** (meistens Bob genannt) gesendet und dort wieder **entschlüsselt**. Damit soll sichergestellt werden, dass die gesendete Nachricht nicht von anderen gelesen werden kann. \n",
    "\n",
    "<div style=\"text-align:center\">\n",
    "<img src=\"figs/verschlüsselung.jpg\" alt=\"Verschlüsselung von Nachrichten\" style=\"width: 800px;\" class=\"center\"/>\n",
    "</div>\n"
   ]
  },
  {
   "cell_type": "markdown",
   "id": "b707ee13-02c8-48c0-bab0-c61dd4e9528b",
   "metadata": {
    "deletable": false,
    "editable": false
   },
   "source": [
    "### Aufgabe 0 | Vorbereitung\n",
    "_____________________________\n",
    "\n",
    "<div class=\"alert alert-info\" style = \"background-color: #E0F2F7; border-color: #2E9AFE; color: #151515\">\n",
    "  <h3><i class=\"fa fa-laptop\" style=\"font-size:36px\"></i>  </h3>\n",
    "\n",
    "*Es ist wichtig jedes grau hinterlegte Codefeld auszuführen, um das Arbeitsblatt zu bearbeiten.\n",
    "Klicke dazu in das Feld und anschließend auf den \"Run\"-Button \n",
    "(oder drücke [Shift] +  [Enter]).*\n",
    "\n",
    "<img src=\"figs/Runbutton.png\" style=\"height:auto;width:25% \"/>\n",
    "</div>\n"
   ]
  },
  {
   "cell_type": "code",
   "execution_count": 2,
   "id": "4414473b-5cd4-4b86-b9dd-ea2acec93bb9",
   "metadata": {
    "deletable": false,
    "execution": {
     "iopub.execute_input": "2025-03-13T10:24:54.319000Z",
     "iopub.status.busy": "2025-03-13T10:24:53.528000Z",
     "iopub.status.idle": "2025-03-13T10:24:55.461000Z",
     "shell.execute_reply": "2025-03-13T10:24:55.429000Z"
    },
    "tags": []
   },
   "outputs": [
    {
     "data": {
      "text/html": [
       "<link rel=\"stylesheet\" href=\"https://cdn.jsdelivr.net/npm/bootstrap@4.6.2/dist/css/bootstrap.min.css\">"
      ],
      "text/plain": [
       "<IPython.core.display.HTML object>"
      ]
     },
     "metadata": {},
     "output_type": "display_data"
    }
   ],
   "source": [
    "# Hier nichts ändern\n",
    "import sys\n",
    "sys.path.append(\"../code\")  # Damit Python im richtigen Ordner sucht\n",
    "import check\n",
    "from IPython.display import display, HTML\n",
    "display(HTML('<link rel=\"stylesheet\" href=\"https://cdn.jsdelivr.net/npm/bootstrap@4.6.2/dist/css/bootstrap.min.css\">'))\n"
   ]
  },
  {
   "cell_type": "markdown",
   "id": "b100adab-133e-494f-931f-541b3e8be721",
   "metadata": {
    "deletable": false,
    "editable": false
   },
   "source": [
    "________________________\n",
    "### Aufgabe 1 | Die Caesar - Verschlüsselung"
   ]
  },
  {
   "cell_type": "markdown",
   "id": "22513749-61fb-45e8-9319-5f34a65cc87e",
   "metadata": {
    "deletable": false,
    "editable": false
   },
   "source": [
    "<div style=\"display: flex; align-items: flex-start;\">  \n",
    "\n",
    "  <img src=\"figs/caesar.png\" style=\"height:auto; width:25%; margin-right: 20px;\">\n",
    "  <div>\n",
    "    Laut Überlieferungen verschlüsselte Gaius Julius Caesar seine militärischen Nachrichten mit der Caesar-Verschlüsselung. Das ist ein Verfahren, bei dem die Buchstaben des Alphabets beispielweise um drei Positionen verschoben werden. Das <i>A</i> wird zum <i>D</i>, das <i>B</i> zum <i>E</i>, ... und so weiter. Als Hilfe kann man dafür eine Scheibe verwenden, heute auch Caesar-Scheibe genannt.<br><br>\n",
    "    Im äußeren Ring können wir den Klartext ablesen und im inneren Ring steht der Geheimtext.<br><br>\n",
    "    Bei der Caesar-Verschlüsselung benutzt Alice denselben Schlüssel zum Verschlüsseln, den Bob zum Entschlüsseln benutzt.\n",
    "  </div>\n",
    "</div>"
   ]
  },
  {
   "cell_type": "markdown",
   "id": "6b977701-9fc3-44c0-bdcf-028e54767f0e",
   "metadata": {
    "deletable": false,
    "editable": false
   },
   "source": [
    "#### Teil a | Caesar Code entschlüsseln\n",
    "_________________________________________\n",
    "<div class=\"alert alert-info\" style = \"background-color: #E0F2F7; border-color: #2E9AFE; color: #151515\">\n",
    "\n",
    "Nun seid ihr an der Reihe.\n",
    "Entschlüsselt folgenden Geheimtext:  **KHXWH LVW HLQ WROOHU WDJ**\n",
    "\n",
    "Schlüssel: **3**\n",
    "\n",
    "Falls du Hilfe benötigst, kann du hier einen [**Tipp**](../help/help1_1a.ipynb) bekommen.  \n",
    "Und hier gelangst du zu einer [**interaktiven Caesar-Scheibe**](Caesarscheibe.ipynb).\n",
    "\n",
    "*Ersetze das `NaN` durch den Lösungssatz.*  \n",
    "**Hinweis:** Lasse dabei die Anführungszeichen `\" \"` stehen! Drücke anschließend auf den \"Run\"-Button.\n",
    "</div>"
   ]
  },
  {
   "cell_type": "code",
   "execution_count": null,
   "id": "7e66900b-06e1-43ff-b7e6-0413c8d77185",
   "metadata": {
    "deletable": false
   },
   "outputs": [
    {
     "name": "stdout",
     "output_type": "stream",
     "text": [
      "✔ Das ist korrekt.\n"
     ]
    }
   ],
   "source": [
    "# Antwort\n",
    "lösung =  \"NaN\"\n",
    "\n",
    "#Ab hier nichts mehr ändern!\n",
    "check.caesar_code(lösung)"
   ]
  },
  {
   "cell_type": "markdown",
   "id": "97ab57da-707a-4631-b84e-15544ba7da43",
   "metadata": {
    "deletable": false,
    "editable": false
   },
   "source": [
    "#### Teil b | Wort entschlüsseln\n",
    "_________________________________________\n",
    "<div class=\"alert alert-info\" style = \"background-color: #E0F2F7; border-color: #2E9AFE; color: #151515\">\n",
    "\n",
    "Leider ist der Schlüssel für folgende Nachricht verloren gegangen. Versucht nun das folgende Wort ohne den Schlüsel zu entschlüsseln.\n",
    "\n",
    "**CDOBX**\n",
    "[**Tipp**](../help/help1_1b.ipynb) \n",
    "</div>"
   ]
  },
  {
   "cell_type": "code",
   "execution_count": null,
   "id": "4dcdd47f-8088-4ea9-86bf-6db996efa02e",
   "metadata": {
    "deletable": false
   },
   "outputs": [],
   "source": [
    "# Antwort\n",
    "lösung = \"NaN\" \n",
    "\n",
    "#Ab hier nichts mehr ändern!\n",
    "check.wort_code(lösung)"
   ]
  },
  {
   "cell_type": "markdown",
   "id": "5e09eef2-715e-44cd-a8b3-fb0bd447cabe",
   "metadata": {
    "deletable": false,
    "editable": false
   },
   "source": [
    "#### Teil c | Reflexion\n",
    "_________________________________________\n",
    "<div class=\"alert alert-info\" style = \"background-color: #E0F2F7; border-color: #2E9AFE; color: #151515\">\n",
    " \n",
    "Beurteile die Sicherheit dieses Verschlüsselungsverfahrens. Nenne dabei verschiedene Risiken. Beschreibe Möglichkeiten, wie man ausgehend von der Cäsar-Verschlüsselung zu sicherern Verfahren kommen kann. Notiere die Antworten auf dem Anwortblatt.\n",
    "</div>"
   ]
  },
  {
   "cell_type": "markdown",
   "id": "36c5225d-09b4-4f4e-974a-b36b371c0c62",
   "metadata": {
    "deletable": false,
    "editable": false
   },
   "source": [
    "_________________\n",
    "Hier gelangst du zum nächsten [Arbeitsblatt](Hacker_Caesar.ipynb).\n",
    "___\n",
    "\n",
    "<a rel=“license” href=\"http://creativecommons.org/licenses/by-sa/4.0/\"><img alt=\"Creative Commons Lizenzvertrag\" style=\"border-width:0\" src=\"https://i.creativecommons.org/l/by-sa/4.0/88x31.png\" /></a> \n",
    "Dieses Werk ist lizenziert unter einer <a rel=\"license\" href=\"http://creativecommons.org/licenses/by-sa/4.0/\">Creative Commons Namensnennung - Weitergabe unter gleichen Bedingungen 4.0 International Lizenz</a>\n",
    "\n",
    "Autorin: Alicia Heck|Geändert von Sylvia Waßmer"
   ]
  }
 ],
 "metadata": {
  "kernelspec": {
   "display_name": "Python 3",
   "language": "python",
   "name": "python3"
  },
  "language_info": {
   "codemirror_mode": {
    "name": "ipython",
    "version": 3
   },
   "file_extension": ".py",
   "mimetype": "text/x-python",
   "name": "python",
   "nbconvert_exporter": "python",
   "pygments_lexer": "ipython3",
   "version": "3.13.6"
  }
 },
 "nbformat": 4,
 "nbformat_minor": 5
}
