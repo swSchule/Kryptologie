{
 "cells": [
  {
   "cell_type": "markdown",
   "id": "e9389752-1db7-4d26-a6ee-ad7314c2a4d4",
   "metadata": {
    "deletable": false,
    "editable": false
   },
   "source": [
    "# Aufgabenblatt 7 | Das RSA-Verfahren: Nachrichten austauschen\n",
    "______________"
   ]
  },
  {
   "cell_type": "markdown",
   "id": "7fc99ad5-18a0-44d6-b858-a1c529cef9c6",
   "metadata": {
    "deletable": false,
    "editable": false
   },
   "source": [
    "\n",
    "\n",
    "<img src=\"figs/Nachrichtsenden.png\" style=\"height:auto; width:30%\" align=\"right\" title=\"Nachricht senden\"/>\n",
    "\n",
    "#### Warum ist RSA sicher? ####  \n",
    "Die Sicherheit des RSA-Verfahrens beruht darauf, dass es extrem schwer ist, eine große Zahl in ihre Primfaktoren zu zerlegen. Bei den heute üblichen Schlüssellängen (mindestens 2048 Bit) würde selbst der Supercomputer El Capitan der US-Regierung länger dauern als ds Universum alt ist.\n",
    "Deshalb gilt RSA mathematisch betrachtet als sicher.\n",
    "\n",
    "#### Seitenkanalangriffe ####  \n",
    "Auch wenn das Verfahren theoretisch sicher ist, können praktische Angriffe erfolgreich sein.\n",
    "Angreifer messen zum Beispiel die benötigte Zeit, den Stromverbrauch oder elektromagnetische Abstrahlung während der Berechnung. Daraus lassen sich Rückschlüsse auf den geheimen Schlüssel ziehen.\n",
    "\n",
    "Beispiel: Timing-Angriff: Ein Angreifer schickt eine große Zahl von Anfragen an einen Server, der RSA-Signaturen erstellt. Je nachdem, wie intern das modulare Potenzieren abläuft, dauern die Antworten minimal unterschiedlich lange. Aus diesen Zeitunterschieden kann man statistisch den geheimen Schlüssel rekonstruieren.\n",
    "\n",
    "#### RSA früher ####  \n",
    "Früher wurde RSA für den sicheren Datenaustausch mit Webservern genutzt.\n",
    "- Der Browser erzeugte einen zufälligen Sitzungsschlüssel.\n",
    "- Er verschlüsselte diesen mit dem öffentlichen Schlüssel des Servers und schickte ihn dorthin.\n",
    "- Mit diesem Sitzungsschlüssel erfolgte dann die schnelle symmetrische Verschlüsselung (z. B. AES).\n",
    "\n",
    "Problem: Wenn jemand später den privaten Schlüssel des Servers erbeutet, könnte er alte Verbindungen nachträglich entschlüsseln. Deshalb ersetzt man diesen Ablauf heute durch Verfahren mit Perfect Forward Secrecy (z. B. Diffie–Hellman).\n",
    "\n",
    "#### RSA heute und in der Zukunft ####  \n",
    "- Auch heute wird RSA noch vielfach eingesetzt: für digitale Signaturen, für die Verschlüsselung von E-Mails und für sichere Logins.\n",
    "- In Zukunft könnten leistungsfähige Quantencomputer RSA und Diffie–Hellman brechen. Deshalb arbeitet man bereits an quanten­sicheren Verfahren, die in den nächsten Jahren eingeführt werden\n",
    "\n",
    "#### Übung: RSA (vereinfacht) ###\n",
    "Auf  diesem Arbeitsblatt könnt ihr nun euch gegenseitig geheime Nachrichten schicken. \n",
    "- Das Verfahren stark vereinfacht: Wir verschlüsseln  jeden Buchstaben einzeln. Dadurch wird die Verschlüsselung durch Häufigkeitsanalyse angreifbar.  \n",
    "\n",
    "In der Praxis macht man es so:\n",
    "- Nachrichten werden in Blöcke zerlegt.  \n",
    "- Diese Blöcke werden mit Füllzeichen (Padding) ergänzt.  \n",
    "- Dann wird der gesamte Block als Zahl verschlüsselt.\n",
    "- Auf diese Weise verschwinden auffällige Muster und die Sicherheit steigt erheblich.\n"
   ]
  },
  {
   "cell_type": "code",
   "execution_count": 1,
   "id": "8bded94a-ce23-4a0a-abc7-11a9967823b8",
   "metadata": {
    "deletable": false
   },
   "outputs": [
    {
     "data": {
      "text/html": [
       "<link rel=\"stylesheet\" href=\"https://cdn.jsdelivr.net/npm/bootstrap@4.6.2/dist/css/bootstrap.min.css\">"
      ],
      "text/plain": [
       "<IPython.core.display.HTML object>"
      ]
     },
     "metadata": {},
     "output_type": "display_data"
    }
   ],
   "source": [
    "# Hier nichts ändern, nur ausführen\n",
    "import sys\n",
    "sys.path.append(\"../code\")  # Damit Python im richtigen Ordner sucht\n",
    "import check\n",
    "import math\n",
    "from IPython.display import display, HTML\n",
    "display(HTML('<link rel=\"stylesheet\" href=\"https://cdn.jsdelivr.net/npm/bootstrap@4.6.2/dist/css/bootstrap.min.css\">'))"
   ]
  },
  {
   "cell_type": "markdown",
   "id": "b100adab-133e-494f-931f-541b3e8be721",
   "metadata": {
    "deletable": false,
    "editable": false
   },
   "source": [
    "________________________\n",
    "### Aufgabe 1 | Erstelle deinen eigenen Public Key und Private Key\n",
    "\n",
    "Um nicht zu viel Rechenleistung zu benötigen, beschränken wir uns auf Schlüssel, die erheblich kürzer als die in der Praxis verwendeten sind.\n",
    "\n",
    "\n",
    "<div class=\"alert alert-info\" style = \"background-color: #ede9e4; border-color: #625543; color: #151515\">\n",
    "  <h3><i class=\"fa fa-exclamation\" style=\"font-size:36px\"></i>  Vorbemerkung:</h3>\n",
    "\n",
    "Falls ihr zu zweit <i class=\"fa fa-user\" style=\"font-size:16px\"></i><i class=\"fa fa-user\" style=\"font-size:16px\"></i> an einem PC arbeitet, führt zuerst **Person 1** alle Schritte der Public und Private Key Erzeugung durch, danach führt **Person 2** alle Schritte durch.\n",
    "\n",
    "Somit besitzt jeder am Ende seine persönlichen Schlüssel.\n",
    "</div>"
   ]
  },
  {
   "cell_type": "markdown",
   "id": "6b977701-9fc3-44c0-bdcf-028e54767f0e",
   "metadata": {
    "deletable": false,
    "editable": false
   },
   "source": [
    "#### Teil a | Erstelle deinen eigenen Public Key <i class=\"fa fa-key\" style=\"font-size:16px\"></i>\n",
    "_________________________________________\n",
    "<div class=\"alert alert-info\" style = \"background-color: #E0F2F7; border-color: #2E9AFE; color: #151515\">\n",
    "  \n",
    "Wähle dir hierfür zwei Primzahlen $p$ und $q$. Berechne damit N sowie $\\varphi(n)$ mithilfe der Funktion check.phi(n).\n",
    "\n",
    "\n",
    "<i class=\"fa fa-exclamation\" style=\"font-size:30px\"></i> Bedingung für ASCII: $N>255$. \n",
    "\n",
    "[**Primzahlentabelle**](../help/help5_prim.ipynb) , dass ihr auch auf große $N$´s kommt ;-)\n",
    "</div>"
   ]
  },
  {
   "cell_type": "code",
   "execution_count": null,
   "id": "0d19e6a8-260c-4b60-9eee-15ac9e9ebb36",
   "metadata": {
    "deletable": false
   },
   "outputs": [
    {
     "name": "stdout",
     "output_type": "stream",
     "text": [
      "N = 143, phi(N) = 120\n"
     ]
    }
   ],
   "source": [
    "#Wähle p und q\n",
    "p = 13\n",
    "q = 11\n",
    "#Berechne N und phi(N)\n",
    "N = 1\n",
    "phiN = 1\n",
    "\n",
    "#Ab hier nichts mehr ändern!\n",
    "print(f\"N = {N}, phi(N) = {phiN}\")"
   ]
  },
  {
   "cell_type": "markdown",
   "id": "0030de07-f645-44df-a279-308a1d8b8975",
   "metadata": {
    "deletable": false,
    "editable": false
   },
   "source": [
    "<div class=\"alert alert-info\" style = \"background-color: #E0F2F7; border-color: #2E9AFE; color: #151515\">\n",
    "  \n",
    "Wähle nun e mit  *$\\; 1<e<\\varphi(N)$ und $\\mathrm{ggT}(e,\\varphi(N))=1$.*\n",
    "\n",
    "[**Tipp**](../help/help5_1a.ipynb) \n",
    "</div>"
   ]
  },
  {
   "cell_type": "code",
   "execution_count": null,
   "id": "b544b534-e624-489f-bc63-f1659b26bb34",
   "metadata": {
    "deletable": false
   },
   "outputs": [
    {
     "name": "stdout",
     "output_type": "stream",
     "text": [
      "✔ Gültiger Public Key: (e, N) = (29, 143)\n"
     ]
    }
   ],
   "source": [
    "#Wähle e\n",
    "N = 1\n",
    "e = 1\n",
    "\n",
    "#Ab hier nichts mehr ändern!\n",
    "check.check_public(e,N)"
   ]
  },
  {
   "cell_type": "markdown",
   "id": "c529afe3-0130-41c3-a99f-c91859c6e300",
   "metadata": {
    "deletable": false,
    "editable": false
   },
   "source": [
    "<div class=\"alert alert-info\" style = \"background-color: #E0F2F7; border-color: #2E9AFE; color: #151515\">\n",
    "  \n",
    "Super, nun hast du einen öffentlichen Schlüssel erstellt. \n",
    "\n",
    "Schreibe ihn dir auf und veröffentliche ihn auf unserer Taskcard.\n",
    "\n",
    "\n",
    "**Public Key NAME,** $(e,N)$\n",
    "</div>"
   ]
  },
  {
   "cell_type": "markdown",
   "id": "97ab57da-707a-4631-b84e-15544ba7da43",
   "metadata": {
    "deletable": false,
    "editable": false
   },
   "source": [
    "#### Teil b | Erstelle deinen eigenen Private Key \n",
    "_________________________________________\n",
    "<div class=\"alert alert-info\" style = \"background-color: #E0F2F7; border-color: #2E9AFE; color: #151515\">\n",
    "  \n",
    "Verwende dafür die Funktion check.d_berechnen(e, phi_n) im nächsten Codefeld.\n",
    "</div>"
   ]
  },
  {
   "cell_type": "code",
   "execution_count": null,
   "id": "538e5052-2d72-412d-9905-363f69953145",
   "metadata": {
    "deletable": false
   },
   "outputs": [
    {
     "name": "stdout",
     "output_type": "stream",
     "text": [
      "Dein Private Key ist (d,N) = (29,143)\n"
     ]
    }
   ],
   "source": [
    "#Private Key berechnen lassen\n",
    "e = 1\n",
    "N = 1\n",
    " \n",
    "d = check.d_berechnen(e, check.phi(N))\n",
    "\n",
    "#Ab hier nichts mehr ändern!\n",
    "print(f\"Dein Private Key ist (d,N) = ({d},{N})\")\n"
   ]
  },
  {
   "cell_type": "markdown",
   "id": "79452e16-df2f-4522-a54f-eab28f201d63",
   "metadata": {
    "deletable": false,
    "editable": false
   },
   "source": [
    "<div class=\"alert alert-info\" style = \"background-color: #E0F2F7; border-color: #2E9AFE; color: #151515\">\n",
    "\n",
    "Super, nun hast du deinen privaten Schlüssel erstellt. Schreibe ihn dir auf. Aber pssst, geheim halten!\n",
    "\n",
    "</div>"
   ]
  },
  {
   "cell_type": "markdown",
   "id": "cc9324c7-29ea-4b0b-9cd0-73b61a59cfe0",
   "metadata": {
    "deletable": false,
    "editable": false
   },
   "source": [
    "#### Teil c | Nachricht verschlüsseln \n",
    "_________________________________________\n",
    "\n",
    "<div class=\"alert alert-info\" style = \"background-color: #E0F2F7; border-color: #2E9AFE; color: #151515\">\n",
    "      \n",
    "Schicke eine verschlüsselte Nachricht an deinen Sitznachbarn: Suche dir dazu den zugehörigen Public Key an der Tafel, verschlüssle die Nachricht und stelle sie dann mit Angabe des Empfängers auf unsere Taskcard.\n",
    "</div>\n",
    "\n"
   ]
  },
  {
   "cell_type": "code",
   "execution_count": null,
   "id": "1df2cd94-873a-48fe-8e77-98af8a03a5c6",
   "metadata": {
    "deletable": false
   },
   "outputs": [
    {
     "name": "stdout",
     "output_type": "stream",
     "text": [
      "RSA-verschlüsselte Nachricht: [24, 93, 49, 49, 89, 54, 120, 17, 49, 90]\n"
     ]
    }
   ],
   "source": [
    "#den Public Key von Person 2 eingeben, um die Nachricht zu verschlüsseln\n",
    "\n",
    "e = 1\n",
    "N = 1\n",
    "Nachricht = \"Hallo Welt\"\n",
    "\n",
    "#Ab hier nichts mehr ändern!\n",
    "check.encrypt_text_rsa(e,N,Nachricht);"
   ]
  },
  {
   "cell_type": "markdown",
   "id": "94f6bb54-ee1f-4160-8a54-89a33029c7ee",
   "metadata": {
    "deletable": false,
    "editable": false
   },
   "source": [
    "#### Teil d | Nachricht entschlüsseln <i class=\"fa fa-lock-open\" style=\"font-size:16px\"></i>\n",
    "_________________________________________\n",
    "<div class=\"alert alert-info\" style = \"background-color: #E0F2F7; border-color: #2E9AFE; color: #151515\">\n",
    "\n",
    "Hier kannst du empfangene verschlüsselte Nachrichten entschlüsseln.\n",
    "    \n",
    "Kopiere dazu die Verschlüsselten Nachricht `mit den Klammern []` und deinen Private Key `(d,N)` in das Codefeld um den Klartext zu erhalten.\n",
    "</div>\n",
    "\n",
    "\n"
   ]
  },
  {
   "cell_type": "code",
   "execution_count": null,
   "id": "b05c8032-820c-4f61-be3a-a825a94afa43",
   "metadata": {
    "deletable": false
   },
   "outputs": [
    {
     "name": "stdout",
     "output_type": "stream",
     "text": [
      "Entschlüsselter Text: Hallo Welt\n"
     ]
    }
   ],
   "source": [
    "#Geheimtext und dein Private Key eingeben, um die Nachricht zu entschlüsseln\n",
    "d = 1\n",
    "N = 1\n",
    "Geheimtext = [24, 93, 49, 49, 89, 54, 120, 17, 49, 90]\n",
    "\n",
    "#Ab hier nichts mehr ändern!\n",
    "check.decrypt_text_rsa(d, N, Geheimtext);"
   ]
  },
  {
   "cell_type": "markdown",
   "id": "2933ad9f-643b-4d3e-a9c6-6d5787ecb300",
   "metadata": {
    "deletable": false,
    "editable": false
   },
   "source": [
    "#### Aufgabe 2 | Reflexion\n",
    "_________________________________________\n",
    "<div class=\"alert alert-info\" style = \"background-color: #E0F2F7; border-color: #2E9AFE; color: #151515\">\n",
    "      \n",
    "Recherchiere im Internet und notiere auf dem Antwortblatt bei Aufgabe 4:\n",
    "Wer hat generell Interesse daran Daten, zu entschlüsseln? Welche Ziele werden hierbei verfolgt?\n",
    "</div>\n"
   ]
  },
  {
   "cell_type": "markdown",
   "id": "b07993c6-dea8-4a60-b8d5-6bc613dc7d56",
   "metadata": {
    "deletable": false,
    "editable": false
   },
   "source": [
    "_________________________________________\n",
    "#### Schon fertig? \n",
    "\n",
    "Zusatzaufgabe: Erstelle ein Programm, dass eine Zahl in Primfaktoren zerlegt. Miss die Zeit, die für die Zerlegung gebraucht wird für immer größer werdende Zahlen. Hinweise: Importiere das Modul time und verwende die Anweisung time.time() zum messen der aktuellen Sytemzeit in Sekunden seit dem 1. Januar 1970.\n",
    "_________________________________________\n",
    "\n",
    "Hier gelangst du zu zusätzlichem Material.\n",
    "\n",
    "\n",
    "Es gibt verschiedene Tools, welche dir RSA- Schlüssel erzeugen:\n",
    "\n",
    "- https://www.cryptool.org/de/cto/rsa-visual\n",
    "\n",
    "- https://tools.justus-d.de/rsa/   \n",
    "\n",
    "Hier ein Beispiel zur RSA-Verschlüsselung mit großen Zahlen:\n",
    "\n",
    "- https://kilchb.de/bsp_rsa.php\n",
    "\n",
    "\n",
    "Natürlich gibt es noch viel mehr Chiffren. Lerne auf dieser Website weitere kennen:\n",
    "- https://www.cryptool.org/de/cto/\n",
    "- Die bekannteste Geheimschrift ist die Pigpen- Chiffre, auch als Freimaurer-Chiffre bekannt. Informiere dich wie diese funktioniert und versende eine verschlüsselte Nachricht.\n"
   ]
  },
  {
   "cell_type": "markdown",
   "id": "8bb20efe-090c-4819-a9ab-15b6af1bb627",
   "metadata": {
    "deletable": false,
    "editable": false
   },
   "source": [
    "___\n",
    "\n",
    "<a rel=“license” href=\"http://creativecommons.org/licenses/by-sa/4.0/\"><img alt=\"Creative Commons Lizenzvertrag\" style=\"border-width:0\" src=\"https://i.creativecommons.org/l/by-sa/4.0/88x31.png\" /></a> \n",
    "Dieses Werk ist lizenziert unter einer <a rel=\"license\" href=\"http://creativecommons.org/licenses/by-sa/4.0/\">Creative Commons Namensnennung - Weitergabe unter gleichen Bedingungen 4.0 International Lizenz</a>\n",
    "\n",
    "Autorin: Alicia Heck | Geändert: Sylvia Waßmer"
   ]
  }
 ],
 "metadata": {
  "kernelspec": {
   "display_name": "Python 3",
   "language": "python",
   "name": "python3"
  },
  "language_info": {
   "codemirror_mode": {
    "name": "ipython",
    "version": 3
   },
   "file_extension": ".py",
   "mimetype": "text/x-python",
   "name": "python",
   "nbconvert_exporter": "python",
   "pygments_lexer": "ipython3",
   "version": "3.13.6"
  }
 },
 "nbformat": 4,
 "nbformat_minor": 5
}
