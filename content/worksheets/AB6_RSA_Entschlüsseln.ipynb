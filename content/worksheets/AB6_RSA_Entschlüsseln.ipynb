{
 "cells": [
  {
   "cell_type": "markdown",
   "id": "e9389752-1db7-4d26-a6ee-ad7314c2a4d4",
   "metadata": {
    "deletable": false,
    "editable": false
   },
   "source": [
    "# Aufgabenblatt 6 | Das RSA-Verfahren: Nachrichten entschlüsseln\n",
    "______________"
   ]
  },
  {
   "cell_type": "markdown",
   "id": "b707ee13-02c8-48c0-bab0-c61dd4e9528b",
   "metadata": {
    "deletable": false,
    "editable": false
   },
   "source": [
    "<img src=\"../figs/privatekeyd.jpg\" style=\"height:auto; width:15%\" align=\"right\" title=\"Private Key d\"/>\n",
    "\n",
    "### Einleitung\n",
    "\n",
    "\n",
    "\n",
    "<i class=\"fa fa-envelope\" style=\"font-size:15px\"></i> Alice hat nun mit Hilfe von Bob´s Public Key eine Nachricht verschlüsselt und an ihn geschickt. Nun will Bob diese Nachricht wieder entschlüsseln, um sie lesen zu können. Dafür braucht er seinen Pivaten Schlüssel (Private Key) $(d,N)$. Diesen berechnen wir jetzt.\n",
    "\n"
   ]
  },
  {
   "cell_type": "code",
   "execution_count": 3,
   "id": "6926d8ae-b147-4411-9669-f5f17f2375da",
   "metadata": {
    "deletable": false
   },
   "outputs": [
    {
     "data": {
      "text/html": [
       "<link rel=\"stylesheet\" href=\"https://cdn.jsdelivr.net/npm/bootstrap@4.6.2/dist/css/bootstrap.min.css\">"
      ],
      "text/plain": [
       "<IPython.core.display.HTML object>"
      ]
     },
     "metadata": {},
     "output_type": "display_data"
    }
   ],
   "source": [
    "# Hier nichts ändern, nur ausführen\n",
    "import sys\n",
    "sys.path.append(\"../code\")  # Damit Python im richtigen Ordner sucht\n",
    "import check\n",
    "import math\n",
    "from IPython.display import display, HTML\n",
    "display(HTML('<link rel=\"stylesheet\" href=\"https://cdn.jsdelivr.net/npm/bootstrap@4.6.2/dist/css/bootstrap.min.css\">'))"
   ]
  },
  {
   "cell_type": "markdown",
   "id": "6b977701-9fc3-44c0-bdcf-028e54767f0e",
   "metadata": {
    "deletable": false,
    "editable": false
   },
   "source": [
    "________________________\n",
    "\n",
    "\n",
    "### Aufgabe 1 | Bestimmung des Privaten Schlüssels\n",
    "\n",
    "\n",
    "Die Zahl d des privaten Schlüssels ist das \"modulare Inverse\" zur Zahl $e$ modulo $\\varphi(n)$  . Das bedeutet, dass das Produkt von e und d kongruent zu 1 ist:   \n",
    "$d \\cdot e \\equiv 1\\; ( \\bmod \\; \\varphi(n))$\n",
    "\n",
    "\n"
   ]
  },
  {
   "cell_type": "markdown",
   "id": "82edb1f9-8bd3-4f7c-8487-06907178d74b",
   "metadata": {
    "deletable": false,
    "editable": false
   },
   "source": [
    "<div class=\"alert alert-info\" style = \"background-color: #E0F2F7; border-color: #2E9AFE; color: #151515\">  \n",
    "\n",
    "\n",
    "Bestimme erst einmal von Hand das Inverse von 3 für den Modul 8 und von 5 für den Modul 13 (auf dem Antwortblatt.)  \n",
    "Probiere dazu die Zahlen i von 1 bis m-1 durch: Für welche davon gilt $i \\cdot a  \\bmod m = 1?$ \n",
    "\n",
    "Schreibe dann die Funktion inverse(a, m), die das modulare Inverse der Zahl a modulo m bestimmt. \n",
    "Hinweis: In Phython verwendet man % als Modulo-Operator. \n",
    "\n",
    "Prüfe deine Funktion mithilfe der von Hand bestimmten Werte.\n",
    "</div>"
   ]
  },
  {
   "cell_type": "code",
   "execution_count": 7,
   "id": "0c90270d",
   "metadata": {},
   "outputs": [
    {
     "name": "stdout",
     "output_type": "stream",
     "text": [
      "Das modulare Inverse von 7 modulo 100 ist None\n"
     ]
    }
   ],
   "source": [
    "# Das modulare Inverse berechnen\n",
    "def inverses(a, m):\n",
    "    \n",
    "    return None  # Falls kein Inverses gefunden wird\n",
    "\n",
    "# Bestimmung des modularen Inversen der Zahlen e und N\n",
    "e=7\n",
    "N = 100\n",
    "print(f\"Das modulare Inverse von {e} modulo {N} ist {inverses(e, N)}\")\n",
    "\n"
   ]
  },
  {
   "cell_type": "markdown",
   "id": "040945c7",
   "metadata": {},
   "source": [
    "<div class=\"alert alert-info\" style = \"background-color: #E0F2F7; border-color: #2E9AFE; color: #151515\">\n",
    "\n",
    "Bestimme nun mithilfe der von dir erstellten Funktionen den privaten Schlüssel von Bob.\n",
    "</div>"
   ]
  },
  {
   "cell_type": "code",
   "execution_count": null,
   "id": "edc4ab7b",
   "metadata": {},
   "outputs": [
    {
     "name": "stdout",
     "output_type": "stream",
     "text": [
      "Der private Schlüssel von Bob ist (d, N) = (23, 100)\n"
     ]
    }
   ],
   "source": [
    "#Bestimmen den privaten Schlüssel von Bob\n",
    "e = 7  # Öffentlicher Exponent\n",
    "N = 100  # Modulus\n",
    "d = inverses(e, phi(N))  # Privater Exponent\n",
    "print(f\"Der private Schlüssel von Bob ist (d, N) = ({d}, {N})\")\n"
   ]
  },
  {
   "cell_type": "markdown",
   "id": "2efba85b-91da-46b8-aa3c-04dfb4b04777",
   "metadata": {
    "deletable": false,
    "editable": false
   },
   "source": [
    "### Aufgabe 2 | Nachricht entschlüsseln <i class=\"fa fa-lock-open\" style=\"font-size:16px\"></i>\n",
    "_________________________________________\n",
    "<div class=\"alert alert-info\" style = \"background-color: #E0F2F7; border-color: #2E9AFE; color: #151515\">\n",
    "    \n",
    "Den zu c gehörenden Klartext m erhält man so:  $m \\equiv c^d\\; \\mathrm{mod} \\; N$.\n",
    "\n",
    "Notiere die Gleichung mit deinen gewählten Zahlen auf dem  Antwortblatt und berechne dann $m$.\n",
    "\n",
    "</div>"
   ]
  },
  {
   "cell_type": "code",
   "execution_count": null,
   "id": "60dce6de-db92-4a1a-9409-5fa72e87e614",
   "metadata": {
    "deletable": false
   },
   "outputs": [
    {
     "name": "stdout",
     "output_type": "stream",
     "text": [
      "Die entschlüsselte Nachricht ist m = 88\n"
     ]
    }
   ],
   "source": [
    "#Entschlüsseln\n",
    "c = 42  # Chiffre\n",
    "d = 43  # Privater Schlüssel    \n",
    "N = 100  # Modul\n",
    "m = \"NaN\" #Formel hier ergänzen\n",
    "\n",
    "#Hier nicht mehr ändern\n",
    "print(f\"Die entschlüsselte Nachricht ist m = {m}\")\n"
   ]
  },
  {
   "cell_type": "markdown",
   "id": "9bf531c0-a968-4d6a-97a2-2e34d1a0674f",
   "metadata": {
    "deletable": false,
    "editable": false
   },
   "source": [
    "________________________\n",
    "### Aufgabe 2 | Reflexion\n",
    "<div class=\"alert alert-info\" style = \"background-color: #E0F2F7; border-color: #2E9AFE; color: #151515\">\n",
    " \n",
    "<i class=\"fa fa-pencil-square-o\" style=\"font-size:36px\"></i>  Notiere auf dem Antwortblatt:\n",
    "\n",
    "- Welche Unterschiede erkennst du im Vergleich zum Caesar Verschlüsselungsverfahren?\n",
    "- Welche Gemeinsamkeiten?\n",
    "</div>"
   ]
  },
  {
   "cell_type": "markdown",
   "id": "6727f10f",
   "metadata": {},
   "source": [
    "_________________\n",
    "Hier gelangst du zum nächsten [Arbeitsblatt](AB7_Nachrichtenaustausch.ipynb).\n",
    "___\n",
    "\n",
    "<a rel=“license” href=\"http://creativecommons.org/licenses/by-sa/4.0/\"><img alt=\"Creative Commons Lizenzvertrag\" style=\"border-width:0\" src=\"https://i.creativecommons.org/l/by-sa/4.0/88x31.png\" /></a> \n",
    "Dieses Werk ist lizenziert unter einer <a rel=\"license\" href=\"http://creativecommons.org/licenses/by-sa/4.0/\">Creative Commons Namensnennung - Weitergabe unter gleichen Bedingungen 4.0 International Lizenz</a>\n",
    "\n",
    "Autorin: Alicia Heck | Geändert: Sylvia Waßmer"
   ]
  },
  {
   "cell_type": "markdown",
   "id": "a221c970-918b-457e-bdf3-9b39d6103c50",
   "metadata": {
    "deletable": false,
    "editable": false
   },
   "source": [
    "___\n",
    "\n",
    "<a rel=“license” href=\"http://creativecommons.org/licenses/by-sa/4.0/\"><img alt=\"Creative Commons Lizenzvertrag\" style=\"border-width:0\" src=\"https://i.creativecommons.org/l/by-sa/4.0/88x31.png\" /></a> \n",
    "Dieses Werk ist lizenziert unter einer <a rel=\"license\" href=\"http://creativecommons.org/licenses/by-sa/4.0/\">Creative Commons Namensnennung - Weitergabe unter gleichen Bedingungen 4.0 International Lizenz</a>\n",
    "\n",
    "Autorin: Alicia Heck|Geändert Sylvia Waßmer"
   ]
  }
 ],
 "metadata": {
  "kernelspec": {
   "display_name": "Python 3",
   "language": "python",
   "name": "python3"
  },
  "language_info": {
   "codemirror_mode": {
    "name": "ipython",
    "version": 3
   },
   "file_extension": ".py",
   "mimetype": "text/x-python",
   "name": "python",
   "nbconvert_exporter": "python",
   "pygments_lexer": "ipython3",
   "version": "3.13.6"
  }
 },
 "nbformat": 4,
 "nbformat_minor": 5
}
