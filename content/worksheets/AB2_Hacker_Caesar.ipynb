{
 "cells": [
  {
   "cell_type": "markdown",
   "id": "e9389752-1db7-4d26-a6ee-ad7314c2a4d4",
   "metadata": {
    "deletable": false,
    "editable": false
   },
   "source": [
    "# Aufgabenblatt 2 | Caesar-Verfahren hacken\n",
    "__________"
   ]
  },
  {
   "cell_type": "markdown",
   "id": "02f55acc-ffb7-469f-8486-96c1abb7cb37",
   "metadata": {
    "deletable": false,
    "editable": false
   },
   "source": [
    "<img src=\"../figs/hacker.png\" style=\"height:auto; width:15%\" align=\"right\" title=\"Hacker\"/>\n",
    "\n",
    "## Einleitung\n",
    "\n",
    "In der Realität werden Verschlüsselungen oftmals angegriffen und man versucht, geheime Daten zu hacken.\n",
    "Dies gelingt mal mehr, mal weniger gut.\n",
    "Im Folgenden geht es um zwei Verfahren, mit denen man Verschlüsselungen angreifen kann: Brute Force und Häufigkeitsanalyse."
   ]
  },
  {
   "cell_type": "code",
   "execution_count": 1,
   "id": "5de8f597-1052-47e4-a715-497a18934fa6",
   "metadata": {
    "deletable": false
   },
   "outputs": [
    {
     "data": {
      "text/html": [
       "<link rel=\"stylesheet\" href=\"https://cdn.jsdelivr.net/npm/bootstrap@4.6.2/dist/css/bootstrap.min.css\">"
      ],
      "text/plain": [
       "<IPython.core.display.HTML object>"
      ]
     },
     "metadata": {},
     "output_type": "display_data"
    }
   ],
   "source": [
    "# Hier nichts ändern, nur ausführen!\n",
    "import sys\n",
    "sys.path.append(\"../code\")  # Damit Python im richtigen Ordner sucht\n",
    "import check\n",
    "from IPython.display import display, HTML\n",
    "display(HTML('<link rel=\"stylesheet\" href=\"https://cdn.jsdelivr.net/npm/bootstrap@4.6.2/dist/css/bootstrap.min.css\">'))\n"
   ]
  },
  {
   "cell_type": "markdown",
   "id": "b100adab-133e-494f-931f-541b3e8be721",
   "metadata": {
    "deletable": false,
    "editable": false
   },
   "source": [
    "### Aufgabe 1 | Vorbereitung\n",
    "Zunächst schreiben wir Funktionen, um Texte mit dem Caesar-Verfahren zu ent- oder verschlüsseln. In den weiteren Aufgaben geht es dann um das Brechen der Verschlüsselung.\n",
    "___\n",
    "\n",
    "<div class=\"alert alert-info\" style = \"background-color: #E0F2F7; border-color: #2E9AFE; color: #151515\">\n",
    "\n",
    "Vervollständige der Reihe nach alle Funktionen im folgenden Codeblock. Beachte jeweils die Kommentare. \n",
    "Beim Ausführen des Codeblocks wird an Ende ein Test durchgeführt, der deine Programme auf Korrektheit prüft.\n"
   ]
  },
  {
   "cell_type": "code",
   "execution_count": 12,
   "id": "9d7590e2",
   "metadata": {},
   "outputs": [
    {
     "name": "stdout",
     "output_type": "stream",
     "text": [
      "encrypt_letter: Fehler bei 'A', 3: '*' statt 'D'\n",
      "encrypt_letter: Fehler bei 'Z', 1: '*' statt 'A'\n",
      "decrypt_letter: Fehler bei '*', 3: '*' statt 'A'\n",
      "decrypt_letter: Fehler bei '*', 1: '*' statt 'Z'\n",
      "encrypt_text: Fehler bei 'HEUTE IST EIN ToLLER TAG', 15: '*' statt 'WTJIT XHI TXC IDAATG IPV'\n",
      "decrypt_text: Fehler bei 'WTJIT XHI TXC IDAATG IPV', 15: '*' statt 'HEUTE IST EIN TOLLER TAG'\n"
     ]
    }
   ],
   "source": [
    "def encrypt_letter(letter, key):\n",
    "    \"\"\"Verschlüsselt jeweils einen Buchstaben. Falls es sich um einen Kleinbuchstaben handelt, erfolgt die Umwandlung in einen Großbuchstaben.\n",
    "    Falls es sich nicht um einen Buchstaben handelt, bleibt er unverändert.\n",
    "    - letter: Buchstabe (char)\n",
    "    - key: Schlüssel (int)\n",
    "    Rückgabe: Verschlüsselter Buchstabe als Großbuchstabe\"\"\"\n",
    "    # Verwende folgende Anweisungen\n",
    "    # upper() zur Umwandlung in einen Großbuchstaben\n",
    "    # ord(<zeichen>): Liefert den ASCII-Code des Zeichens\n",
    "    # chr(<zahl>: Liefert das zum ASCII-Code gehörende Zeichen\n",
    "    return \"*\"\n",
    "    \n",
    "\n",
    "def encrypt_text(text, key):\n",
    "    \"\"\"Verschlüsselt einen Text mit dem Caesar-Verfahren.\n",
    "    - text: Klartext (str)\n",
    "    - key: Schlüssel (int)\n",
    "    Rückgabe: Verschlüsselter Text (str)\"\"\"\n",
    "    return \"*\"\n",
    "\n",
    "def decrypt_letter(letter, key):\n",
    "    \"\"\"Entschlüsselt einen Buchstaben mit dem Caesar-Verfahren.Falls es sich um einen Kleinbuchstaben handelt, \n",
    "    erfolgt die Umwandlung in einen Großbuchstaben. Falls es sich nicht um einen Buchstaben handelt, bleibt er unverändert.\n",
    "    - letter: Geheimbuchstabe (char)\n",
    "    - key: Schlüssel (int)\n",
    "    Rückgabe: Klartextbuchstabe (char)\"\"\"\n",
    "    n = ord(letter.upper())\n",
    "    if n >= ord('A') and n <= ord('Z'):\n",
    "        n = (n - ord('A') - key) % 26 + ord('A')\n",
    "    return \"*\"\n",
    "\n",
    "def decrypt_text(text, key):\n",
    "    \"\"\"Entschlüsselt einen Text mit dem Caesar-Verfahren.\n",
    "    - text: Geheimtext (str)\n",
    "    - key: Schlüssel (int)\n",
    "    Rückgabe: Klartext (str)\"\"\"\n",
    "    return \"*\"\n",
    "\n",
    "# Ab hier nichts mehr ändern!\n",
    "print(check.caesar_test(encrypt_letter, encrypt_text, decrypt_letter, decrypt_text))\n",
    "\n"
   ]
  },
  {
   "cell_type": "markdown",
   "id": "fb217f16",
   "metadata": {},
   "source": [
    "<div class=\"alert alert-info\" style = \"background-color: #E0F2F7; border-color: #2E9AFE; color: #151515\">\n",
    "  <h3><i class=\"fa fa-laptop\" style=\"font-size:36px\"></i>  </h3>\n",
    "Gib im nächsten Codeblock einen Text ein. Dieser wird beim Ausführen mit einem zufälligen Schlüssel verschlüsselt und das Ergebnis ausgegeben und in der Variablen cyphertext gespeichert."
   ]
  },
  {
   "cell_type": "code",
   "execution_count": 13,
   "id": "29b95a2d",
   "metadata": {},
   "outputs": [
    {
     "name": "stdout",
     "output_type": "stream",
     "text": [
      "Geheimtext: EGL AEW QYWW QER SJX ZSR FÖWIR OMRHIVR LÖVIR SHIV PIWIR. AMI DYQ FIMWTMIP LMIV ZSR HMIWIR AIPGLI QEBYRH QSVMXD LMIWWIR\n"
     ]
    }
   ],
   "source": [
    "#Gib einen  Text ein, den du verschlüsseln möchtest \n",
    "import random\n",
    "n = random.randint(1, 25) #Schlüssel\n",
    "text = \"Ach was muss man oft von bösen Kindern hören oder lesen. Wie zum Beispiel hier von diesen welche Max\" \\\n",
    "\"und Moritz hießen\"\n",
    "\n",
    "\n",
    "#ab hier nichts mehr ändern\n",
    "ciphertext=check.encrypt_text(text, n)\n",
    "print(f\"Geheimtext: {ciphertext}\")\n"
   ]
  },
  {
   "cell_type": "markdown",
   "id": "3c20a312",
   "metadata": {},
   "source": [
    "### Aufgabe 2 | Brechen der Verschlüsselung durch Brute Force\n",
    "___\n",
    "<div class=\"alert alert-info\" style = \"background-color: #E0F2F7; border-color: #2E9AFE; color: #151515\">\n",
    "  <h3><i class=\"fa fa-laptop\" style=\"font-size:36px\"></i>  </h3>\n",
    "Verwende deinen oben erstellten Funktionen zur Verschlüsselung und Entschlüsselung, um alle Schlüssel auszuprobieren und die Verschlüsselung so zu brechen.\n"
   ]
  },
  {
   "cell_type": "code",
   "execution_count": 14,
   "id": "c63dcc42-f9c5-4c72-9647-1d896d9e4efb",
   "metadata": {
    "deletable": false
   },
   "outputs": [
    {
     "name": "stdout",
     "output_type": "stream",
     "text": [
      "Schlüssel 1: *\n",
      "Schlüssel 2: *\n",
      "Schlüssel 3: *\n",
      "Schlüssel 4: *\n",
      "Schlüssel 5: *\n",
      "Schlüssel 6: *\n",
      "Schlüssel 7: *\n",
      "Schlüssel 8: *\n",
      "Schlüssel 9: *\n",
      "Schlüssel 10: *\n",
      "Schlüssel 11: *\n",
      "Schlüssel 12: *\n",
      "Schlüssel 13: *\n",
      "Schlüssel 14: *\n",
      "Schlüssel 15: *\n",
      "Schlüssel 16: *\n",
      "Schlüssel 17: *\n",
      "Schlüssel 18: *\n",
      "Schlüssel 19: *\n",
      "Schlüssel 20: *\n",
      "Schlüssel 21: *\n",
      "Schlüssel 22: *\n",
      "Schlüssel 23: *\n",
      "Schlüssel 24: *\n",
      "Schlüssel 25: *\n"
     ]
    }
   ],
   "source": [
    "# Brechen der Verschlüsselung durch Brute Force. Zu knacken ist der in der Variablen ciphertext gespeicherte Geheimtext.\n",
    "for key in range(1, 26):\n",
    "    decrypted_text = \"*\"\n",
    "    print(f\"Schlüssel {key}: {decrypted_text}\")\n"
   ]
  },
  {
   "cell_type": "markdown",
   "id": "6e1a5d48",
   "metadata": {},
   "source": [
    "### Aufgabe 3 | Brechen der Verschlüsselung durch Häufigkeitsanalyse\n",
    "___\n",
    "<div class=\"alert alert-info\" style = \"background-color: #E0F2F7; border-color: #2E9AFE; color: #151515\">\n",
    " Hacker gehen folgendermaßen vor. Sie schauen sich die Buchstabenhäufigkeit des Textes an und werten diese aus. In der deutschen Sprache sieht die Verteilung wie folgt aus<sup>1</sup>:\n",
    "\n",
    "<img src=\"../figs/häufigkeiten.png\" style=\"height:auto; width:70%\" align=\"center\" title=\"Häufigkeitsverteilung der Buchstaben.\"/>  \n",
    "\n",
    "Vervollständige die Funktion in nächsten Codeblock, um die Häufigkeitsverteilung der Buchstaben in ciphertext zu erhalten. Wie kannst du damit den Schlüssel ermitteln? Probiere aus, ob deine Vermutung richtig ist."
   ]
  },
  {
   "cell_type": "code",
   "execution_count": 15,
   "id": "b34a3c91-93e5-49c2-b568-ed3a4176939b",
   "metadata": {
    "deletable": false
   },
   "outputs": [
    {
     "data": {
      "image/png": "[encoded data removed]",
      "text/plain": [
       "<Figure size 640x480 with 1 Axes>"
      ]
     },
     "metadata": {},
     "output_type": "display_data"
    }
   ],
   "source": [
    "#Hier wird die Häufigkeit der Buchstaben in dem Text ermittelt, der in der Variablen ciphertext gespeichert ist.\n",
    "\n",
    "\n",
    "def frequency(text):\n",
    "    #Ermittel die Häufigkeitsverteilung der Buchstaben in Text und gibt das Ergebnis als Liste zurück, \n",
    "    # die an der 0. Position die Häufigkeit des Buchstaben A, an der 1. Position die Häufigkeit \n",
    "    # des Buchstaben B usw. enthält. Denke daran, dass der Text auch Kleinbuchstaben und Sonderzeichen enthalten kann\n",
    "    freq = [0] * 26 #Erzeuge eine Liste mit 26 Nullen\n",
    "    return freq\n",
    "\n",
    "\n",
    "#ab hier nichts mehr ändern\n",
    "def graph(frequency):\n",
    "    import matplotlib.pyplot as plt\n",
    "    plt.bar(range(26), frequency) # Erstellt ein Balkendiagramm\n",
    "    plt.xticks(range(26), [chr(i + ord('A')) for i in range(26)]) # Setzt die x-Achse auf die Buchstaben A-Z\n",
    "    plt.xlabel('Buchstaben') # Beschriftung der x-Achse    \n",
    "    plt.ylabel('Häufigkeit') #\n",
    "    plt.title('Häufigkeitsverteilung der Buchstaben')# Titel des Diagramms\n",
    "    plt.show()#\n",
    "\n",
    "graph(frequency(ciphertext))\n"
   ]
  },
  {
   "cell_type": "markdown",
   "id": "5ca86329-aed3-488e-99a1-fd706ceec6b4",
   "metadata": {
    "deletable": false,
    "editable": false
   },
   "source": [
    "<div class=\"alert alert-info\" style = \"background-color: #E0F2F7; border-color: #2E9AFE; color: #151515\">\n",
    "  <h3><i class=\"fa fa-laptop\" style=\"font-size:36px\"></i>  </h3>\n",
    "Wähle nun resultierend aus der Häufigkeitsverteilung einen Schlüssel und schaue nach, ob du die Nachricht entschlüsseln kannst."
   ]
  },
  {
   "cell_type": "code",
   "execution_count": null,
   "id": "0d7b6e72-c21d-48e6-9ce2-3204dc46356e",
   "metadata": {
    "deletable": false
   },
   "outputs": [
    {
     "ename": "NameError",
     "evalue": "name 'NaN' is not defined",
     "output_type": "error",
     "traceback": [
      "\u001b[31m---------------------------------------------------------------------------\u001b[39m",
      "\u001b[31mNameError\u001b[39m                                 Traceback (most recent call last)",
      "\u001b[36mCell\u001b[39m\u001b[36m \u001b[39m\u001b[32mIn[16]\u001b[39m\u001b[32m, line 3\u001b[39m\n\u001b[32m      1\u001b[39m \u001b[38;5;66;03m#Entschlüsseln der Nachricht \u001b[39;00m\n\u001b[32m----> \u001b[39m\u001b[32m3\u001b[39m key = \u001b[43mNaN\u001b[49m\n\u001b[32m      7\u001b[39m \u001b[38;5;66;03m#ab hier nichts mehr ändern\u001b[39;00m\n\u001b[32m      8\u001b[39m check.decrypt_text(ciphertext, key)\n",
      "\u001b[31mNameError\u001b[39m: name 'NaN' is not defined"
     ]
    }
   ],
   "source": [
    "#Entschlüsseln der Nachricht \n",
    "\n",
    "key = 0    # Gib hier den Schlüssel ein, den du für richtig hältst\n",
    "\n",
    "#ab hier nichts mehr ändern\n",
    "check.decrypt_text(ciphertext, key)"
   ]
  },
  {
   "cell_type": "markdown",
   "id": "0d1ca282-d212-4a37-ba06-9566c8407e7b",
   "metadata": {
    "deletable": false,
    "editable": false
   },
   "source": [
    "<div class=\"alert alert-info\" style = \"background-color: #E0F2F7; border-color: #2E9AFE; color: #151515\">\n",
    "    \n",
    "Bearbeite die Aufgaben auf dem Antwortblatt.\n",
    "</div>"
   ]
  },
  {
   "cell_type": "markdown",
   "id": "2d80bf1a-5ff3-4ece-a1cb-a2659c217883",
   "metadata": {
    "deletable": false,
    "editable": false
   },
   "source": [
    "__________________\n",
    "#### Schon fertig?\n",
    "Hier gelangst du zum nächsten [Arbeitsblatt](AB_3_Vigenere.ipynb).\n",
    "___\n",
    "\n",
    "<a rel=“license” href=\"http://creativecommons.org/licenses/by-sa/4.0/\"><img alt=\"Creative Commons Lizenzvertrag\" style=\"border-width:0\" src=\"https://i.creativecommons.org/l/by-sa/4.0/88x31.png\" /></a> \n",
    "Dieses Werk ist lizenziert unter einer <a rel=\"license\" href=\"http://creativecommons.org/licenses/by-sa/4.0/\">Creative Commons Namensnennung - Weitergabe unter gleichen Bedingungen 4.0 International Lizenz</a>\n",
    "\n",
    "Autorin: Alicia Heck | Geändert Sylvia Waßmer\n",
    "\n",
    "<sup>1</sup> Albrecht Beutelspacher. Kryptologie. Eine Einführung in die Wissenschaft vom Verschlüsseln, Verbergen und Verheimlichen. 8. Aufl. Wiesbaden: Springer Spektrum, 2015."
   ]
  }
 ],
 "metadata": {
  "kernelspec": {
   "display_name": "Python 3",
   "language": "python",
   "name": "python3"
  },
  "language_info": {
   "codemirror_mode": {
    "name": "ipython",
    "version": 3
   },
   "file_extension": ".py",
   "mimetype": "text/x-python",
   "name": "python",
   "nbconvert_exporter": "python",
   "pygments_lexer": "ipython3",
   "version": "3.13.6"
  }
 },
 "nbformat": 4,
 "nbformat_minor": 5
}
