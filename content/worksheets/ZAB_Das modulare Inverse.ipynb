{
 "cells": [
  {
   "cell_type": "markdown",
   "id": "6c04d7f9",
   "metadata": {},
   "source": [
    "## Das modulare Inverse"
   ]
  },
  {
   "cell_type": "markdown",
   "id": "ccadf085",
   "metadata": {},
   "source": [
    "<div class=\"alert alert-info\" style = \"background-color: #E0F2F7; border-color: #2E9AFE; color: #151515\">\n",
    "\n",
    "## Einleitung\n",
    "\n",
    "Das **modulare Inverse** ist ein wichtiger Begriff in der Kryptographie, besonders beim RSA-Verfahren. Es beschreibt eine Zahl, die bei der modularen Multiplikation das neutrale Element (1) ergibt.\n",
    "\n",
    "Formal: Für zwei Zahlen `a` und `m` ist das modulare Inverse von `a` modulo `m` eine Zahl `x`, sodass gilt:\n",
    "```\n",
    "a · x ≡ 1 (mod m)\n",
    "```\n",
    "\n",
    "**Beispiel**: Das modulare Inverse von 3 modulo 7 ist 5, weil:\n",
    "```\n",
    "3 · 5 = 15 ≡ 1 (mod 7)\n",
    "\n"
   ]
  },
  {
   "cell_type": "markdown",
   "id": "113ed8eb",
   "metadata": {},
   "source": [
    "### Aufgabe 1a: Ändere das Programm in der nächsten Zelle so ab, dass das modulare Inverse von 14 modulo 31 bestimmt wird. Ergänze es so, das am Ende auch noch das Ergebnis ausgegeben wird. "
   ]
  },
  {
   "cell_type": "code",
   "execution_count": 1,
   "id": "f4afb191",
   "metadata": {},
   "outputs": [
    {
     "name": "stdout",
     "output_type": "stream",
     "text": [
      " i      i*3   i*3 mod 14\n",
      " 1        3            3\n",
      " 2        6            6\n",
      " 3        9            9\n",
      " 4       12           12\n",
      " 5       15            1\n",
      " 6       18            4\n",
      " 7       21            7\n",
      " 8       24           10\n",
      " 9       27           13\n",
      "10       30            2\n",
      "11       33            5\n",
      "12       36            8\n",
      "13       39           11\n",
      "Das modulare Inverse von 3 modulo 14 ist 5\n"
     ]
    }
   ],
   "source": [
    "## Aufgabe 1a | Einfache Berechnung per Probieren\n",
    "a = 3\n",
    "m = 14 \n",
    "\n",
    "#Überschriften für die Tabelle\n",
    "print(f\"{'i':>2} {'i*'+str(a):>8} {'i*'+str(a)+' mod '+str(m):>12}\")\n",
    "erg = 0\n",
    "for i in range(1,14):\n",
    "   vielfaches = i*3\n",
    "   rest = vielfaches%14\n",
    "   # Nächste Zeile: Ausgabe als Tabelle\n",
    "   print(f\"{i:>2} {vielfaches:>8} {rest:>12}\")\n",
    "   if rest == 1:\n",
    "      erg = i\n",
    "print(f\"Das modulare Inverse von 3 modulo 14 ist {erg}\")\n"
   ]
  },
  {
   "cell_type": "markdown",
   "id": "1b8792a3",
   "metadata": {},
   "source": [
    "### Aufgabe 1b| Schreibe mithilfe des Programms aus Aufgabe 1a eine Funktion, die das modulare Inverse von a modulo m zurückgibt. Zudem soll man beim Aufruf angeben können, ob die Multiplikationstafel ausgegeben werden soll"
   ]
  },
  {
   "cell_type": "code",
   "execution_count": 8,
   "id": "9997672d",
   "metadata": {},
   "outputs": [
    {
     "data": {
      "text/plain": [
       "0"
      ]
     },
     "execution_count": 8,
     "metadata": {},
     "output_type": "execute_result"
    }
   ],
   "source": [
    "\n",
    "def inverses(a, m, ausgabe = True):\n",
    "    erg = 0\n",
    "    return erg\n",
    "\n",
    "#Aufruf der Funktion\n",
    "inverses(3,14,False)\n",
    "\n"
   ]
  }
 ],
 "metadata": {
  "kernelspec": {
   "display_name": "Python 3",
   "language": "python",
   "name": "python3"
  },
  "language_info": {
   "codemirror_mode": {
    "name": "ipython",
    "version": 3
   },
   "file_extension": ".py",
   "mimetype": "text/x-python",
   "name": "python",
   "nbconvert_exporter": "python",
   "pygments_lexer": "ipython3",
   "version": "3.13.6"
  }
 },
 "nbformat": 4,
 "nbformat_minor": 5
}
