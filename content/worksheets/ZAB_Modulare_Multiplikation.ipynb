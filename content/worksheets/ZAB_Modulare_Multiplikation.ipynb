{
 "cells": [
  {
   "cell_type": "markdown",
   "id": "26e31578",
   "metadata": {},
   "source": [
    "## AB: Modulare Multiplikation\n",
    "**Ziel:**  \n",
    "Du programmierst eine interaktive Visualisierung der modularen Multiplikation. Dabei lernst du, wie Zahlen im Kreis verbunden werden und wie Zyklen entstehen. Das Programm wird Schritt für Schritt aufgebaut!"
   ]
  },
  {
   "cell_type": "code",
   "execution_count": 1,
   "id": "96704dfc",
   "metadata": {},
   "outputs": [
    {
     "data": {
      "text/html": [
       "<link rel=\"stylesheet\" href=\"https://cdn.jsdelivr.net/npm/bootstrap@4.6.2/dist/css/bootstrap.min.css\">"
      ],
      "text/plain": [
       "<IPython.core.display.HTML object>"
      ]
     },
     "metadata": {},
     "output_type": "display_data"
    }
   ],
   "source": [
    "# Nur Ausführen, nichts ändern!\n",
    "%matplotlib inline\n",
    "import sys\n",
    "sys.path.append(\"../code\")  # Damit Python im richtigen Ordner sucht\n",
    "if 'pyodide' in sys.modules:\n",
    "    import piplite\n",
    "    await piplite.install(['ipywidgets'])\n",
    "import ipywidgets as widgets\n",
    "\n",
    "from IPython.display import display, HTML\n",
    "display(HTML('<link rel=\"stylesheet\" href=\"https://cdn.jsdelivr.net/npm/bootstrap@4.6.2/dist/css/bootstrap.min.css\">'))\n",
    "from math import pi, cos, sin  # Nur die genutzten Funktionen\n",
    "import matplotlib.pyplot as plt\n",
    "import matplotlib.colors as mcolors  # Für zyklusfarben()"
   ]
  },
  {
   "cell_type": "markdown",
   "id": "d063c502",
   "metadata": {},
   "source": [
    "### **Aufgabe | Multiplikation modulo m** \n",
    "a) Das Programm in der folgenden Codezelle erzeugt eine Zeichenfläche mit einem Kreis. Anschließend wird ein kleiner Kreis mit der Nummer 2 eingezeichnet. Auf dem großen Kreis soll der ganze Zahlenkreis modulo m dargestellt werden. Ergänze dazu die Funktion feld_position(nummer), so dass diese die Koordinaten des ensprechenden Feldes zurückliefert und schreibe dann eine Funktion, die alle diese Kreise zeichnet.\n",
    "<br>  \n",
    "\n",
    "b) Erstelle einen Schieberegler, mit dem man den Modul m einstellen kann. Füge hierzu folgende Funktion hinzu: \n",
    "\n",
    "<span style=\"font-size:12px;font-family:monospace\">\n",
    "def schieberegler_modul():  <br>\n",
    "&nbsp;&nbsp;&nbsp;sl_modul = widgets.IntSlider(value=3, min=3, max=400, step=1, description='Modul:', continuous_update=False)  \n",
    "\n",
    "&nbsp;&nbsp;&nbsp;def aktion_modul(change):  \n",
    "&nbsp;&nbsp;&nbsp;&nbsp;&nbsp;&nbsp;global modul  \n",
    "&nbsp;&nbsp;&nbsp;&nbsp;&nbsp;&nbsp;modul = sl_modul.value  \n",
    "\n",
    "\n",
    "&nbsp;&nbsp;&nbsp;display(sl_modul)  \n",
    "&nbsp;&nbsp;&nbsp;sl_modul.observe(aktion, names='value')  \n",
    "</span>\n",
    "\n",
    "<div style=\"font-size:16px; font-family:sans-serif; margin-top:8px;\"> Die Funktion aktion(change) wird jedes Mal aufgerufen, wenn sich die Einstellung des Schiebereglers ändert. Passe diese Funktion so an, dass jeweils der Kreis zum eingestellten Modul gezeichnet wird.\n",
    "<br>   \n",
    "\n",
    " \n",
    "c) Die Variable k stehe für die Nummer eines der Felder im Zahlenkreis. Erstelle eine Funktion, welche das Feld k mit dem Feld (k*faktor) mod modul miteinander verbindet. Verwende folgende Funktion zum zeichnen von Linien <\\div>\n",
    "<br>  \n",
    "<span style=\"font-size:12px;font-family:monospace\">\n",
    "def zeichne_linie(von_x, von_y, nach_x, nach_y, farbe=(0,0,1), linewidth=1):  <br>\n",
    "&nbsp;&nbsp;&nbsp; ax.plot([von_x, von_y], [nach_x, nach_y], color=farbe, linewidth=linewidth)  \n",
    "</span> \n",
    "<br>\n",
    "<div style=\"font-size:16px; font-family:sans-serif; margin-top:8px;\"> \n",
    "\n",
    "d) Schreibe nun eine Funktion, die alle Felder von 1 bis m-1 durchläuft und diese jeweils mit dem Feld verbindet, auf das man durch Multiplikation mit dem Wert der Variablen Faktor gelangt. \n",
    "\n",
    "e) Ergänze nun um einen Schieberegler, mit dem man den Wert des Faktors einstellen kann.\n",
    "\n",
    "\n"
   ]
  },
  {
   "cell_type": "code",
   "execution_count": 3,
   "id": "b4573b3c",
   "metadata": {},
   "outputs": [
    {
     "data": {
      "image/png": "[encoded data removed]",
      "text/plain": [
       "<Figure size 600x600 with 1 Axes>"
      ]
     },
     "metadata": {},
     "output_type": "display_data"
    }
   ],
   "source": [
    "from IPython.display import clear_output, display\n",
    "def initialisieren():\n",
    "    \"\"\"\n",
    "    Initialisiert die Zeichenfläche einschließlich eines Kreises mit Radius 1.\n",
    "    \"\"\"\n",
    "    ax.clear()\n",
    "    #Achsen ausblenden \n",
    "    ax.axis('off')\n",
    "    ax.set_title(\"Modulare Multiplikation\", fontsize=12)  # Titel setzen\n",
    "    ax.set_aspect('equal', 'box')  # Gleiche Skalierung auf beiden Achsen\n",
    "    ax.set_xlim(-1.2, 1.2)\n",
    "    ax.set_ylim(-1.2, 1.2)\n",
    "    kreis = plt.Circle((0, 0), 1, color='lightgray', fill=False, linewidth=0.5)\n",
    "    ax.add_artist(kreis)\n",
    "\n",
    "def zeichne_kreis(x,y, radius=0.01, farbe='gray', nummer =-1):\n",
    "    \"\"\"\n",
    "    Zeichnet einen ausgefüllten Kreis auf ax mit angegebenem Mittelpunkt, Radius und Farbe, ohne Rand.\n",
    "    Falls nummer >= 0, wird die Zahl als Beschriftung hinzugefügt.\n",
    "    \"\"\"\n",
    "    kreis = plt.Circle((x, y), radius, color=farbe, fill=True, linewidth=0)\n",
    "    ax.add_artist(kreis)\n",
    "    if nummer>=0:\n",
    "        ax.text(1.1 * x, 1.1 * y, str(nummer), ha='center', va='center', fontsize=7)  # Beschriftung\n",
    "\n",
    "def feld_position(nummer):   \n",
    "   \"\"\"\n",
    "   Berechnet die Koordinaten eines Feldes im Zahlenkreis.Hinweis: Verwende sin und cos im Bogenmaß.\n",
    "   \"\"\"\n",
    "   x=0\n",
    "   y=0\n",
    "   return x, y\n",
    "\n",
    "\n",
    "\n",
    "#Globale Variablen\n",
    "modul= 10\n",
    "faktor = 3\n",
    "plt.close('all')  # Alle alten Figuren schließen\n",
    "fig, ax = plt.subplots(figsize=(6, 6))#Zeichenfläche erstellen\n",
    "initialisieren()\n",
    "plt.show()#Zeichenfläche anzeigen\n",
    "initialisieren()\n",
    "\n",
    "\n"
   ]
  },
  {
   "cell_type": "markdown",
   "id": "c1a96e04",
   "metadata": {},
   "source": [
    "### **Zusatzaufgabe 1| Zeichnen der Figur animieren**\n",
    "Animiere die Zeichnung der Linien, damit man die Enstehung der Figur nachvollziehen kann. Unten sieht du ein Beispielprogramm für eine Animation.\n"
   ]
  },
  {
   "cell_type": "code",
   "execution_count": null,
   "id": "e64293dd",
   "metadata": {},
   "outputs": [
    {
     "data": {
      "image/png": "[encoded data removed]",
      "text/plain": [
       "<Figure size 600x600 with 1 Axes>"
      ]
     },
     "metadata": {},
     "output_type": "display_data"
    }
   ],
   "source": [
    "import time\n",
    "from IPython.display import clear_output, display\n",
    "def initialisieren():\n",
    "    \"\"\"\n",
    "    Initialisiert die Zeichenfläche einschließlich eines Kreises mit Radius 1.\n",
    "    \"\"\"\n",
    "    ax.clear()\n",
    "    #Achsen ausblenden \n",
    "    ax.axis('off')\n",
    "    ax.set_title(\"Modulare Multiplikation\", fontsize=12)  # Titel setzen\n",
    "    ax.set_aspect('equal', 'box')  # Gleiche Skalierung auf beiden Achsen\n",
    "    ax.set_xlim(-1.2, 1.2)\n",
    "    ax.set_ylim(-1.2, 1.2)\n",
    "    kreis = plt.Circle((0, 0), 1, color='lightgray', fill=False, linewidth=0.5)\n",
    "    ax.add_artist(kreis)\n",
    "    \n",
    "def animiere_linie(start, ende, schritte=10, farbe='red', linewidth=2):\n",
    "    x0, y0 = start\n",
    "    x1, y1 = ende\n",
    "    for i in range(1, schritte + 1):\n",
    "        # Interpolierte Endposition\n",
    "        xt = x0 + (x1 - x0) * i / schritte\n",
    "        yt = y0 + (y1 - y0) * i / schritte\n",
    "        ax.plot([x0, xt], [y0, yt], color=farbe, linewidth=linewidth)\n",
    "        clear_output(wait=True)\n",
    "        display(fig)\n",
    "        time.sleep(0.01)  # Geschwindigkeit der Animation\n",
    "\n",
    "#Hauptprogramm\n",
    "plt.close('all')  # Alle alten Figuren schließen\n",
    "fig, ax = plt.subplots(figsize=(6, 6))#Zeichenfläche erstellen\n",
    "initialisieren()\n",
    "plt.show()#Zeichenfläche anzeigen\n",
    "animiere_linie((0, 0), (1, 1), schritte=100)"
   ]
  },
  {
   "cell_type": "markdown",
   "id": "735e3640",
   "metadata": {},
   "source": [
    "### **Zusatzaufgabe 2| Zyklen kennzeichnen**\n",
    "Die Figuren zerfallen oftmals in mehrere \"Zyklen\", ihre Anzahl ist gleich dem ggT(modul, faktor). Stelle die Zyklen in verschiedenen Farben dar. Hinweis:Merke dir dazu zu den bereits besuchten Zellen die gewählte Farbe des zugehörigen Zyklus. "
   ]
  }
 ],
 "metadata": {
  "kernelspec": {
   "display_name": "Python 3",
   "language": "python",
   "name": "python3"
  },
  "language_info": {
   "codemirror_mode": {
    "name": "ipython",
    "version": 3
   },
   "file_extension": ".py",
   "mimetype": "text/x-python",
   "name": "python",
   "nbconvert_exporter": "python",
   "pygments_lexer": "ipython3",
   "version": "3.13.6"
  }
 },
 "nbformat": 4,
 "nbformat_minor": 5
}
