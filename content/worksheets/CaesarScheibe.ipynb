{
 "cells": [
  {
   "cell_type": "markdown",
   "id": "6247b742",
   "metadata": {},
   "source": [
    "## **Interaktive Caesar-Scheibe**"
   ]
  },
  {
   "cell_type": "code",
   "execution_count": null,
   "id": "7b6dfa27",
   "metadata": {},
   "outputs": [
    {
     "data": {
      "application/vnd.jupyter.widget-view+json": {
       "model_id": "3d5a4ef4cc4e49ceb852d3fd72149e47",
       "version_major": 2,
       "version_minor": 0
      },
      "text/plain": [
       "interactive(children=(IntSlider(value=0, description='Drehung:', max=25), Output()), _dom_classes=('widget-int…"
      ]
     },
     "metadata": {},
     "output_type": "display_data"
    }
   ],
   "source": [
    "# Hier nichts ändern, nur ausführen\n",
    "import sys\n",
    "sys.path.append(\"../code\")  # Damit Python im richtigen Ordner sucht\n",
    "import check\n",
    "if 'pyodide' in sys.modules:\n",
    "    import piplite\n",
    "    await piplite.install(['ipywidgets'])\n",
    "import ipywidgets as widgets\n",
    "check.caesar_wheel_widget()"
   ]
  }
 ],
 "metadata": {
  "kernelspec": {
   "display_name": "Python 3",
   "language": "python",
   "name": "python3"
  },
  "language_info": {
   "codemirror_mode": {
    "name": "ipython",
    "version": 3
   },
   "file_extension": ".py",
   "mimetype": "text/x-python",
   "name": "python",
   "nbconvert_exporter": "python",
   "pygments_lexer": "ipython3",
   "version": "3.13.6"
  }
 },
 "nbformat": 4,
 "nbformat_minor": 5
}
