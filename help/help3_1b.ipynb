{
 "cells": [
  {
   "cell_type": "markdown",
   "id": "5390d06d-e49f-498d-8769-1b9dd8220fd0",
   "metadata": {
    "deletable": false,
    "editable": false
   },
   "source": [
    "# Tipp 1 | Sportnachmittag"
   ]
  },
  {
   "cell_type": "markdown",
   "id": "ee6309bd-4986-436e-aa33-3523ff510670",
   "metadata": {
    "deletable": false,
    "editable": false
   },
   "source": [
    "Es kommen $26$ Personen zum Sportnachmittag. Es sollen Fußballmannschaften mit je $11$ Spieler zusammengestellt werden.\n",
    "\n",
    "Wir haben jetzt ein System mit $11$ Töpfen, da unser Divisor $11$ ist.\n",
    "\n",
    "Wir rechnen $26:11=2\\; \\mathrm{R} \\; 4$.  \n",
    "\n",
    "Mit welcher Zahl wäre also die $26$ im gleichen Topf?"
   ]
  }
 ],
 "metadata": {
  "kernelspec": {
   "display_name": "Python 3 (ipykernel)",
   "language": "python",
   "name": "python3"
  },
  "language_info": {
   "codemirror_mode": {
    "name": "ipython",
    "version": 3
   },
   "file_extension": ".py",
   "mimetype": "text/x-python",
   "name": "python",
   "nbconvert_exporter": "python",
   "pygments_lexer": "ipython3",
   "version": "3.10.12"
  }
 },
 "nbformat": 4,
 "nbformat_minor": 5
}
