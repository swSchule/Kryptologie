{
 "cells": [
  {
   "cell_type": "markdown",
   "id": "5390d06d-e49f-498d-8769-1b9dd8220fd0",
   "metadata": {
    "deletable": false,
    "editable": false
   },
   "source": [
    "# Tipp 1 | Hacker"
   ]
  },
  {
   "cell_type": "markdown",
   "id": "a407d6f9-e104-47be-8407-0958e9f6f4d1",
   "metadata": {
    "deletable": false,
    "editable": false
   },
   "source": [
    "Sieh dir eher die Zahlen nahe $\\sqrt N$ an."
   ]
  }
 ],
 "metadata": {
  "kernelspec": {
   "display_name": "julia 1.9.3",
   "language": "julia",
   "name": "julia-1.9"
  },
  "language_info": {
   "file_extension": ".jl",
   "mimetype": "application/julia",
   "name": "julia",
   "version": "1.9.3"
  }
 },
 "nbformat": 4,
 "nbformat_minor": 5
}
