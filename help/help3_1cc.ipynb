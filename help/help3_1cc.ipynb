{
 "cells": [
  {
   "cell_type": "markdown",
   "id": "5390d06d-e49f-498d-8769-1b9dd8220fd0",
   "metadata": {
    "deletable": false,
    "editable": false
   },
   "source": [
    "# Tipp 2 | Modulo rechnen"
   ]
  },
  {
   "cell_type": "markdown",
   "id": "ee6309bd-4986-436e-aa33-3523ff510670",
   "metadata": {
    "deletable": false,
    "editable": false
   },
   "source": [
    "Überlege dir im 1. Schritt, wie du die Modulo Rechnung als normale Division schreiben würdest.\n",
    "Welche Bedeutung hat die Zahl, die in die Lücke eingesetzt werden soll?\n",
    "\n",
    "____$\\equiv4\\; \\mathrm{mod} \\; 3$\n",
    "\n",
    "kann umgeschrieben werden zu\n",
    "\n",
    " $4:3=$___ $\\mathrm{R}$ ___\n",
    "\n",
    "Welche Lücke musst du im oberen Fall verwenden?"
   ]
  }
 ],
 "metadata": {
  "kernelspec": {
   "display_name": "Python 3 (ipykernel)",
   "language": "python",
   "name": "python3"
  },
  "language_info": {
   "codemirror_mode": {
    "name": "ipython",
    "version": 3
   },
   "file_extension": ".py",
   "mimetype": "text/x-python",
   "name": "python",
   "nbconvert_exporter": "python",
   "pygments_lexer": "ipython3",
   "version": "3.10.12"
  }
 },
 "nbformat": 4,
 "nbformat_minor": 5
}
