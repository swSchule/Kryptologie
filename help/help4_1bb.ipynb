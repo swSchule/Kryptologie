{
 "cells": [
  {
   "cell_type": "markdown",
   "id": "5390d06d-e49f-498d-8769-1b9dd8220fd0",
   "metadata": {
    "deletable": false,
    "editable": false
   },
   "source": [
    "# Tipp 2 | c berechnen"
   ]
  },
  {
   "cell_type": "markdown",
   "id": "ee6309bd-4986-436e-aa33-3523ff510670",
   "metadata": {
    "deletable": false,
    "editable": false
   },
   "source": [
    "Schreibe \n",
    "\n",
    "$c \\equiv m^e\\; \\mathrm{mod} \\; N$  \n",
    "\n",
    "als \n",
    "\n",
    "$m^e:N =$___ $\\; \\mathrm{R} \\; c$.\n",
    "\n",
    "Setze nun deine gewählten Zahlen ein und berechne zuerst nur $m^e:N =$____. Du wirst eine große Zahl als Ergebnis bekommen, die jedoch nicht ganzzahlig ist.\n",
    "\n",
    "Wie kommst du nun auf den Rest?"
   ]
  },
  {
   "cell_type": "markdown",
   "id": "a3d79b99-a17f-4097-a5e9-356e2acaa53e",
   "metadata": {
    "deletable": false,
    "editable": false
   },
   "source": [
    "Falls du weitere Hilfe benötigst, kann du hier einen weiteren [**Tipp**](help4_1bbb.ipynb) bekommen."
   ]
  }
 ],
 "metadata": {
  "kernelspec": {
   "display_name": "julia 1.9.3",
   "language": "julia",
   "name": "julia-1.9"
  },
  "language_info": {
   "file_extension": ".jl",
   "mimetype": "application/julia",
   "name": "julia",
   "version": "1.9.3"
  }
 },
 "nbformat": 4,
 "nbformat_minor": 5
}
