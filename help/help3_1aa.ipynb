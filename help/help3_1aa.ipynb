{
 "cells": [
  {
   "cell_type": "markdown",
   "id": "5390d06d-e49f-498d-8769-1b9dd8220fd0",
   "metadata": {
    "deletable": false,
    "editable": false
   },
   "source": [
    "# Tipp 1 | Wochentag"
   ]
  },
  {
   "cell_type": "markdown",
   "id": "ee6309bd-4986-436e-aa33-3523ff510670",
   "metadata": {
    "deletable": false,
    "editable": false
   },
   "source": [
    "Überlege dir Schritt für Schritt, in welche Teile du $134$ zerlegen kannst. Denke dabei an die $7$ Wochentage.\n"
   ]
  },
  {
   "cell_type": "markdown",
   "id": "8914d0c6-7452-4ed3-b1db-701d49db9ebe",
   "metadata": {
    "deletable": false,
    "editable": false
   },
   "source": [
    "Falls du weitere Hilfe benötigst, kann du hier einen weiteren [**Tipp**](help3_1aaa.ipynb) bekommen."
   ]
  }
 ],
 "metadata": {
  "kernelspec": {
   "display_name": "julia 1.9.3",
   "language": "julia",
   "name": "julia-1.9"
  },
  "language_info": {
   "file_extension": ".jl",
   "mimetype": "application/julia",
   "name": "julia",
   "version": "1.9.3"
  }
 },
 "nbformat": 4,
 "nbformat_minor": 5
}
