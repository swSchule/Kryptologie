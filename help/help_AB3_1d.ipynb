{
 "cells": [
  {
   "cell_type": "markdown",
   "id": "5390d06d-e49f-498d-8769-1b9dd8220fd0",
   "metadata": {
    "deletable": false,
    "editable": false
   },
   "source": [
    "# Tipp 1 | Eulersche Phi-Funktion"
   ]
  },
  {
   "cell_type": "markdown",
   "id": "45521517-9aed-4b0d-aeaf-3f8f009b191f",
   "metadata": {
    "deletable": false,
    "editable": false
   },
   "source": [
    "Welche Zahlen sind als Funktionsargumente verwendet? Welche Eigenschaften haben sie?"
   ]
  }
 ],
 "metadata": {
  "kernelspec": {
   "display_name": "julia 1.9.3",
   "language": "julia",
   "name": "julia-1.9"
  },
  "language_info": {
   "file_extension": ".jl",
   "mimetype": "application/julia",
   "name": "julia",
   "version": "1.9.3"
  }
 },
 "nbformat": 4,
 "nbformat_minor": 5
}
