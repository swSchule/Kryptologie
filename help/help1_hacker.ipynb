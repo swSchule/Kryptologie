{
 "cells": [
  {
   "cell_type": "markdown",
   "id": "5390d06d-e49f-498d-8769-1b9dd8220fd0",
   "metadata": {
    "deletable": false,
    "editable": false
   },
   "source": [
    "# Tipp 1 | Hacker"
   ]
  },
  {
   "cell_type": "markdown",
   "id": "a407d6f9-e104-47be-8407-0958e9f6f4d1",
   "metadata": {
    "deletable": false,
    "editable": false
   },
   "source": [
    "Nachdem du dir die Häufigkeitsverteilung angeschaut hast, kannst du den häufigsten Buchstaben auf das $E$ setzen.\n",
    "Verdrehe nun die Caesar- Scheibe so, dass das E auf dem äußeren Rand über dem häufigsten Buchstaben im inneren Kreis steht.\n",
    "Schaue dann, auf welchen Buchstaben das $A$ verschoben wird und zähle vom inneren $A$ die Schritte zum äußeren $A$ im Uhrzeigersinn.\n",
    "So kannst du den Schlüssel herausfinden."
   ]
  }
 ],
 "metadata": {
  "kernelspec": {
   "display_name": "julia 1.9.3",
   "language": "julia",
   "name": "julia-1.9"
  },
  "language_info": {
   "file_extension": ".jl",
   "mimetype": "application/julia",
   "name": "julia",
   "version": "1.9.3"
  }
 },
 "nbformat": 4,
 "nbformat_minor": 5
}
