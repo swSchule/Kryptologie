{
 "cells": [
  {
   "cell_type": "markdown",
   "id": "5390d06d-e49f-498d-8769-1b9dd8220fd0",
   "metadata": {
    "deletable": false,
    "editable": false
   },
   "source": [
    "# Tipp 1 | m berechnen"
   ]
  },
  {
   "cell_type": "markdown",
   "id": "ee6309bd-4986-436e-aa33-3523ff510670",
   "metadata": {
    "deletable": false,
    "editable": false
   },
   "source": [
    "Überlege dir, wie du diese Gleichung $m \\equiv c^d\\; \\mathrm{mod} \\;  N$ zu der uns bekannten Division umschreiben kannst."
   ]
  },
  {
   "cell_type": "markdown",
   "id": "a3d79b99-a17f-4097-a5e9-356e2acaa53e",
   "metadata": {
    "deletable": false,
    "editable": false
   },
   "source": [
    "Falls du weitere Hilfe benötigst, kann du hier einen weiteren [**Tipp**](help4_2bb.ipynb) bekommen."
   ]
  }
 ],
 "metadata": {
  "kernelspec": {
   "display_name": "julia 1.9.3",
   "language": "julia",
   "name": "julia-1.9"
  },
  "language_info": {
   "file_extension": ".jl",
   "mimetype": "application/julia",
   "name": "julia",
   "version": "1.9.3"
  }
 },
 "nbformat": 4,
 "nbformat_minor": 5
}
