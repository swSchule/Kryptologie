{
 "cells": [
  {
   "cell_type": "markdown",
   "id": "5390d06d-e49f-498d-8769-1b9dd8220fd0",
   "metadata": {
    "deletable": false,
    "editable": false
   },
   "source": [
    "# Rechner\n",
    "____"
   ]
  },
  {
   "cell_type": "code",
   "execution_count": null,
   "id": "32678ef1-5332-4fc5-beeb-a7919b609557",
   "metadata": {
    "deletable": false
   },
   "outputs": [],
   "source": [
    "# Auch hier musst du dieses Codefeld ausführen\n",
    "include(\"../code/loadFunktionsWorksheet3.jl\")"
   ]
  },
  {
   "cell_type": "code",
   "execution_count": null,
   "id": "29f60da0-6729-49ee-922a-af0ffa1f3939",
   "metadata": {
    "deletable": false
   },
   "outputs": [],
   "source": [
    "#Rechnung\n",
    "\n",
    "m = NaN\n",
    "e = NaN\n",
    "\n",
    "\n",
    "#Ab hier nichts mehr ändern!\n",
    "Verschlüsselung.calc(m,e)"
   ]
  },
  {
   "cell_type": "markdown",
   "id": "366a1d3f-083b-4f09-bd4e-754915a9bc47",
   "metadata": {
    "deletable": false,
    "editable": false
   },
   "source": [
    "Bearbeite nun AB 3 weiter."
   ]
  }
 ],
 "metadata": {
  "kernelspec": {
   "display_name": "julia 1.9.3",
   "language": "julia",
   "name": "julia-1.9"
  },
  "language_info": {
   "file_extension": ".jl",
   "mimetype": "application/julia",
   "name": "julia",
   "version": "1.9.3"
  }
 },
 "nbformat": 4,
 "nbformat_minor": 5
}
