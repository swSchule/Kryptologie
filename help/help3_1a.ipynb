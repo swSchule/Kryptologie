{
 "cells": [
  {
   "cell_type": "markdown",
   "id": "5390d06d-e49f-498d-8769-1b9dd8220fd0",
   "metadata": {
    "deletable": false,
    "editable": false
   },
   "source": [
    "# Erklärung | Töpfe"
   ]
  },
  {
   "cell_type": "markdown",
   "id": "ee6309bd-4986-436e-aa33-3523ff510670",
   "metadata": {
    "deletable": false,
    "editable": false
   },
   "source": [
    "Alle $7$ Tage ist wieder Montag. Wenn wir also bei $0$ anfangen mit Zählen, dann ist nächsten Montag Tag $7$, der Montag in zwei Wochen ist dann Tag $14$ und so weiter. Nach $10$ Wochen wären wir dann an Tag $70$. Alle Montage sind im gleichen Topf. Nämlilch in dem mit der Null drauf."
   ]
  },
  {
   "cell_type": "markdown",
   "id": "8e284002-7534-412b-91cd-1c43a25c60ac",
   "metadata": {
    "deletable": false,
    "editable": false
   },
   "source": [
    "Und falls du es immer noch nicht glaubst, siehe selbst:\n",
    "\n",
    "\n",
    "| Montag | Dienstag | Mittwoch | Donnerstag | Freitag | Samstag | Sonntag |\n",
    "| :---: | :---: | :---: | :---: | :---: | :---: | :---: |\n",
    "| 0 | 1 | 2 | 3 | 4 | 5 | 6 |\n",
    "| **7** | 8 | 9 | 10 | 11 | 12 | 13 | \n",
    "| 14 |15| 16| 17 | 18 | 19 | 20 |\n",
    "| 21 |22| 23| 24 | 25 | 26 | 27 |\n",
    "| 28 |29| 30| 31 | 32 | 33 | 34 |\n",
    "| 35 |36| 37| 38 | 39 | 40 | 41 |\n",
    "| 42 |43| 44| 45 | 46 | 47 | 48 |\n",
    "| 49 |50| 51| 52 | 53 | 54 | 55 |\n",
    "| 56 |57| 58| 59 | 60 | 61 | 62 |\n",
    "| 63 |64| 65| 66 | 67 | 68 | 69 |\n",
    "| **70** |71| ...|\n",
    "\n"
   ]
  }
 ],
 "metadata": {
  "kernelspec": {
   "display_name": "julia 1.9.3",
   "language": "julia",
   "name": "julia-1.9"
  },
  "language_info": {
   "file_extension": ".jl",
   "mimetype": "application/julia",
   "name": "julia",
   "version": "1.9.3"
  }
 },
 "nbformat": 4,
 "nbformat_minor": 5
}
