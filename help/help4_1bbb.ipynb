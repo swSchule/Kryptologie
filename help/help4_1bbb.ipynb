{
 "cells": [
  {
   "cell_type": "markdown",
   "id": "5390d06d-e49f-498d-8769-1b9dd8220fd0",
   "metadata": {
    "deletable": false,
    "editable": false
   },
   "source": [
    "# Tipp 3 | c berechnen"
   ]
  },
  {
   "cell_type": "markdown",
   "id": "ee6309bd-4986-436e-aa33-3523ff510670",
   "metadata": {
    "deletable": false,
    "editable": false
   },
   "source": [
    "Wie kommst du nun auf den Rest?\n",
    "\n",
    "\n",
    "$m^e:N = E$ (Dein Ergebnis - eine Dezimalzahl)\n",
    "\n",
    "Um den Rest herauszufinden nimmst du nun dein Ergebnis, jedoch nicht die Dezimalzahl, die du berechnet hast, sondern du rundest dein Ergebnis auf die nächst kleinere ganze Zahl ab (z.B. $E=123,45$ wird zu $E_g=123$) und muliplizierst diese gerundete Zahl $E_g$ mit deinem $N$.\n",
    "\n",
    "$N \\cdot E_g=$____\n",
    "\n",
    "Dieses Ergebnis musst du noch von $m^e$ abziehen und schon erhältst du den Rest dieser Aufgabe. Das entspricht dann deinem **c**.\n"
   ]
  }
 ],
 "metadata": {
  "kernelspec": {
   "display_name": "julia 1.9.3",
   "language": "julia",
   "name": "julia-1.9"
  },
  "language_info": {
   "file_extension": ".jl",
   "mimetype": "application/julia",
   "name": "julia",
   "version": "1.9.3"
  }
 },
 "nbformat": 4,
 "nbformat_minor": 5
}
