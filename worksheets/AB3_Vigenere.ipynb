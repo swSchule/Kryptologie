{
 "cells": [
  {
   "cell_type": "markdown",
   "metadata": {},
   "source": [
    "# Aufgabenblatt 3 | Die Vigenère-Verschlüsselung  \n",
    "Die Vigenère-Verschlüsselung ist eine Weiterentwicklung der Caesar-Verschlüsselung. Sie wurde im 16. Jahrhundert entwickelt und galt lange Zeit als unknackbar. Im Gegensatz zur Caesar-Verschlüsselung, bei der jeder Buchstabe mit demselben Schlüssel verschoben wird, benutzt die Vigenère-Verschlüsselung ein **Schlüsselwort**. Jeder Buchstabe des Klartexts wird mit einem anderen Buchstaben des Schlüsselworts verschlüsselt.\n",
    "\n",
    "Der so entstehende Geheimtext ist viel sicherer als bei der Caesar-Verschlüsselung, da sich die Verschiebung ständig ändert.\n",
    "______________"
   ]
  },
  {
   "cell_type": "code",
   "execution_count": 1,
   "metadata": {},
   "outputs": [
    {
     "data": {
      "text/html": [
       "<link rel=\"stylesheet\" href=\"https://cdn.jsdelivr.net/npm/bootstrap@4.6.2/dist/css/bootstrap.min.css\">"
      ],
      "text/plain": [
       "<IPython.core.display.HTML object>"
      ]
     },
     "metadata": {},
     "output_type": "display_data"
    },
    {
     "data": {
      "application/vnd.jupyter.widget-view+json": {
       "model_id": "bc93be2156604ce6906953fc2c1f9e5b",
       "version_major": 2,
       "version_minor": 0
      },
      "text/plain": [
       "HBox(children=(IntSlider(value=0, description='Schlüssel (links):', layout=Layout(width='400px'), max=25, styl…"
      ]
     },
     "metadata": {},
     "output_type": "display_data"
    },
    {
     "data": {
      "application/vnd.jupyter.widget-view+json": {
       "model_id": "5a09624e929e43079da21f0ca6ab60eb",
       "version_major": 2,
       "version_minor": 0
      },
      "text/plain": [
       "Output()"
      ]
     },
     "metadata": {},
     "output_type": "display_data"
    }
   ],
   "source": [
    "# Hier nichts ändern nur ausführen\n",
    "import sys\n",
    "sys.path.append(\"../code\")  # Damit Python im richtigen Ordner sucht\n",
    "import check\n",
    "from IPython.display import display, HTML\n",
    "display(HTML('<link rel=\"stylesheet\" href=\"https://cdn.jsdelivr.net/npm/bootstrap@4.6.2/dist/css/bootstrap.min.css\">'));\n",
    "check.vigenere_quadrat_widget();"
   ]
  },
  {
   "cell_type": "markdown",
   "metadata": {},
   "source": [
    "________________________\n",
    "### Aufgabe \n",
    "#### Teil a | Vigenère verschlüsseln"
   ]
  },
  {
   "cell_type": "markdown",
   "metadata": {},
   "source": [
    "<div style=\"display: flex; align-items: flex-start;\">\n",
    "  <div>\n",
    "    Verschlüssele folgenden Klartext mit dem Schlüsselwort \"CODE\":<br><br>\n",
    "    <b>Klartext:</b> GEHEIMNIS<br>\n",
    "    <b>Schlüsselwort:</b> CODE\n",
    "  </div>\n",
    "</div>"
   ]
  },
  {
   "cell_type": "code",
   "execution_count": null,
   "metadata": {},
   "outputs": [
    {
     "name": "stdout",
     "output_type": "stream",
     "text": [
      "✅ Richtig! Deine Verschlüsselung stimmt.\n"
     ]
    }
   ],
   "source": [
    "# Antwort\n",
    "lösung = \"*\"\n",
    "#Ab hier nichts mehr ändern!\n",
    "check.vigenere_code(lösung)"
   ]
  },
  {
   "cell_type": "markdown",
   "metadata": {},
   "source": [
    "#### Teil b | Entschlüsseln\n",
    "_________________________________________\n",
    "<div class=\"alert alert-info\" style = \"background-color: #E0F2F7; border-color: #2E9AFE; color: #151515\">\n",
    "Entschlüssle folgenden Geheimtext mit dem Schlüsselwort \"CODE\":\n",
    "\n",
    "<b>Geheimtext:</b> MZDVVSAX\n",
    "\n",
    "Falls du Hilfe benötigst, kannst du hier einen [**Tipp**](../help/help2_1b.ipynb) bekommen.\n",
    "</div>"
   ]
  },
  {
   "cell_type": "code",
   "execution_count": null,
   "metadata": {},
   "outputs": [
    {
     "name": "stdout",
     "output_type": "stream",
     "text": [
      "✅ Richtig! Deine Verschlüsselung stimmt.\n"
     ]
    }
   ],
   "source": [
    "# Antwort\n",
    "lösung = \"*\"\n",
    "#Ab hier nichts mehr ändern!\n",
    "check.vigenere_decode(lösung)"
   ]
  },
  {
   "cell_type": "markdown",
   "metadata": {},
   "source": [
    "#### Teil c | Reflexion\n",
    "_________________________________________\n",
    "<div class=\"alert alert-info\" style = \"background-color: #E0F2F7; border-color: #2E9AFE; color: #151515\">\n",
    "Bearbeite die Aufgaben auf dem Antwortblatt <br>\n",
    "\n",
    "Zusatz: Programmiere Funktionen zum Verschlüsseln oder Entschlüsseln mit dem Vigenère-Verfahren.Verwende hierbe die Funktionen check.encrypt_letter(letter,n) und check.decrypt_letter(letter, n), die einen einzelnen Buchstaben mit dem Caesar-Verfahren mit Schlüssel n ver- bzw. entschlüsseln.\n",
    "</div>\n"
   ]
  },
  {
   "cell_type": "markdown",
   "metadata": {},
   "source": [
    "_________________________________________\n",
    "#### Schon fertig?  \n",
    "\n"
   ]
  },
  {
   "cell_type": "markdown",
   "metadata": {},
   "source": [
    "_________________\n",
    "Hier gelangst du zum nächsten [Arbeitsblatt](AB4_RSA_PublicKey.ipynb).\n",
    "___\n",
    "\n",
    "<a rel=\"license\" href=\"http://creativecommons.org/licenses/by-sa/4.0/\"><img alt=\"Creative Commons Lizenzvertrag\" style=\"border-width:0\" src=\"https://i.creativecommons.org/l/by-sa/4.0/88x31.png\" /></a> \n",
    "Dieses Werk ist lizenziert unter einer <a rel=\"license\" href=\"http://creativecommons.org/licenses/by-sa/4.0/\">Creative Commons Namensnennung - Weitergabe unter gleichen Bedingungen 4.0 International Lizenz</a>\n",
    "\n",
    "Autorin: Sylvia Waßmer"
   ]
  }
 ],
 "metadata": {
  "kernelspec": {
   "display_name": "Python 3",
   "language": "python",
   "name": "python3"
  },
  "language_info": {
   "codemirror_mode": {
    "name": "ipython",
    "version": 3
   },
   "file_extension": ".py",
   "mimetype": "text/x-python",
   "name": "python",
   "nbconvert_exporter": "python",
   "pygments_lexer": "ipython3",
   "version": "3.13.6"
  }
 },
 "nbformat": 4,
 "nbformat_minor": 2
}
