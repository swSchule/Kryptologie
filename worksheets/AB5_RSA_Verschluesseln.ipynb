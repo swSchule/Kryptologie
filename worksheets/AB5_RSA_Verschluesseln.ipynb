{
 "cells": [
  {
   "cell_type": "markdown",
   "id": "e9389752-1db7-4d26-a6ee-ad7314c2a4d4",
   "metadata": {
    "deletable": false,
    "editable": false
   },
   "source": [
    "# Aufgabenblatt 5 | Das RSA-Verfahren: Nachrichten verschlüsseln\n",
    "______________"
   ]
  },
  {
   "cell_type": "markdown",
   "id": "b707ee13-02c8-48c0-bab0-c61dd4e9528b",
   "metadata": {
    "deletable": false,
    "editable": false
   },
   "source": [
    "<img src=\"figs/verschlüsseln.jpg\" style=\"height:auto; width:15%\" align=\"right\" title=\"Private Key d\"/>\n",
    "\n",
    "### Einleitung\n",
    "\n",
    "Um die Nachricht zu verschlüsseln, benötigen wir einige mathematische Grundlagen. Viele davon kennt ihr schon.\n",
    "Wir schauen uns diese nochmals an, dann seid ihr bestens ausgerüstet, um  Nachrichten verschlüsseln zu können.\n",
    "\n",
    "\n"
   ]
  },
  {
   "cell_type": "code",
   "execution_count": 2,
   "id": "8aa8b379-c042-4409-b6d6-5ec5e4ebfa4e",
   "metadata": {
    "deletable": false
   },
   "outputs": [
    {
     "data": {
      "text/html": [
       "<link rel=\"stylesheet\" href=\"https://cdn.jsdelivr.net/npm/bootstrap@4.6.2/dist/css/bootstrap.min.css\">"
      ],
      "text/plain": [
       "<IPython.core.display.HTML object>"
      ]
     },
     "metadata": {},
     "output_type": "display_data"
    }
   ],
   "source": [
    "# Hier nichts ändern, nur ausführen\n",
    "import sys\n",
    "sys.path.append(\"../code\")  # Damit Python im richtigen Ordner sucht\n",
    "import check\n",
    "from IPython.display import display, HTML\n",
    "display(HTML('<link rel=\"stylesheet\" href=\"https://cdn.jsdelivr.net/npm/bootstrap@4.6.2/dist/css/bootstrap.min.css\">'))"
   ]
  },
  {
   "cell_type": "markdown",
   "id": "b100adab-133e-494f-931f-541b3e8be721",
   "metadata": {
    "deletable": false,
    "editable": false
   },
   "source": [
    "________________________\n",
    "### Aufgabe 1 | Einführung\n"
   ]
  },
  {
   "cell_type": "markdown",
   "id": "6b977701-9fc3-44c0-bdcf-028e54767f0e",
   "metadata": {
    "deletable": false,
    "editable": false
   },
   "source": [
    "#### Teil a | Teilen mit Rest\n",
    "_________________________________________\n",
    "\n",
    "Wir erinnern uns an das schriftliche Dividieren. Möchte man heruasfinden, wie oft die $7$ in die $25$ passt, schreiben wir:\n",
    "\n",
    "<img src=\"figs/schriftlichD.png\" alt=\"schriftliches Dividieren\" style=\"width: 150px;\" align=\"center\"/>\n",
    "\n",
    "\n",
    "Denn die $7$ passt $3$ Mal in die $25$ und dann bleibt ein Rest von $4$ übrig. Somit wissen wir, dass $7\\cdot 3 + 4 = 25$ ist."
   ]
  },
  {
   "cell_type": "markdown",
   "id": "20b9b5d1-7c42-4349-85c1-6013b1baf383",
   "metadata": {
    "deletable": false,
    "editable": false
   },
   "source": [
    "Wir schauen uns nun ein Anwendungsbeispiel an.\n",
    "\n",
    "Das Prinzip ist dir aus dem Alltag bekannt. Betrachten wir einmal die Wochentage von Montag bis Sonntag. Angenommen heute ist Montag, dann ist morgen Dienstag, also $+1$ Tag. Übermorgen ist Mittwoch, also $+2$ Tage. Wenn wir das in eine Tabelle aufschreiben, starten wir heute - am Montag - bei Tag $0$, Dienstag ist Tag $1$,...\n",
    "\n",
    "Gehen wir $7$ Tage weiter, sind wir wieder bei Montag. Also ist der Montag Tag $0$ und Tag $7$. Genau so ist der Dienstag Tag $1$ und Tag $8$.\n",
    "\n",
    "\n",
    "| Montag | Dienstag | Mittwoch | Donnerstag | Freitag | Samstag | Sonntag |\n",
    "| :---: | :---: | :---: | :---: | :---: | :---: | :---: |\n",
    "| 0 | 1 | 2 | 3 | 4 | 5 | 6 |\n",
    "| 7 | 8 | 9 | 10 | 11 | 12 | 13 | \n",
    "| 14 | ... |\n",
    "\n",
    "\n",
    "Du kannst dir das auch einfach so vorstellen, das alle Montage, also der Aktuelle, der in $7$ Tagen, der in $14$ Tagen,.... alle in dem gleichen Topf sind. Und zwar in dem Topf $0$. Jeder Montag, egal in wie vielen Wochen, ist immer ein Repräsentant aus diesem Topf.\n",
    "\n",
    "\n",
    "<div style=\"text-align:center\">\n",
    "<img src=\"figs/mod7.jpg\" alt=\"Töpfe der Restklassen\" style=\"width: 600px;\" class=\"center\"/>\n",
    "</div>\n",
    "\n",
    "Wenn du nun also ausrechnen möchtest, welcher Wochentag in 25 Tagen ist, dann kannst du beginnend von Montag schauen, wie oft die $7$ in die $25$ passt.\n",
    "\n",
    "$25=7\\cdot3 \\; \\mathrm{R} \\; 4$ . Es sind $3$ Wochen und ein Rest von $4$ Tagen. Das heißt wir zählen von Montag noch $4$ Tage weiter. Das Ergebnis wäre also Freitag. Schauen wir in die Tabelle von oben, stellen wir fest, dass dort der Freitag auch in Topf $4$ ist. \n",
    "\n",
    "\n",
    "\n",
    "Das hätte auch noch abgezählt werden können, aber wenn die Zahlen größer werden, kann die Rechnung sehr nützlich sein.\n",
    "\n",
    "Überlegen wir uns dies für $97$ Tage. Wie oft passt die $7$ in die $97$? Wir wissen, dass $7$ in $70$ passt, also können wir auch schreiben $97=70+27$.\n",
    "\n",
    "Und nun kommt die Vereinfachung: $97=70+27=7\\cdot10+27$. Da $70$ ein Vielfaches von $7$ ist, wissen wir, dass beide im gleichen Topf sind.\n",
    "\n",
    "___\n",
    "<i class=\"fa fa-question-circle\" style=\"font-size:36px\"></i> Falls es dir nicht klar ist, dass $7$ und $70$ im gleichen Topf sind, dann klicke [**hier**](../help/help3_1a.ipynb). Das solltest du verstanden haben, um weiter zu machen.\n",
    "___\n",
    "\n",
    " \n",
    "\n",
    "\n",
    "Wir können also auch schreiben $7$ ist im gleichen Topf wie $70$ und im gleichen Topf wie $0$. In der Mathematik kann dies durch das Gleichheitszeichen mit drei Strichen geschrieben werden: $7 \\equiv 70 \\equiv 0$. Es wird gesprochen als $7$ ist \"kongruent\" zu $70$ und auch \"kongruent\" zu $0$, da sie alle im gleichen Topf sind.\n",
    "\n",
    "Demnach können wir auch das schreiben:\n",
    "\n",
    "\n",
    "$97=70+27 \\equiv 0+27$. Da $70$ kongruent zu $0$ ist, sind sie im gleichen Topf und daher wissen wir, dass Tag $70$ auch ein Montag ist. Demnach müssen wir nur noch schauen, mit welchem Wochentag die $27$ im Topf ist.\n",
    "\n",
    "$27= 7\\cdot3+6 = 21+6$. Da $21$ im gleichen Topf wie die $7$ ist, gilt also auch $27= 21+6 \\equiv 0+6$.  Wir müssen uns also Topf $6$ anschauen.\n",
    "\n",
    "\n",
    "Aus dieser ganzen Rechnung können wir nun schließen, dass $97 \\equiv 27 \\equiv 6$. Also ist die $97$ im Topf $6$, also ein Sonntag.\n",
    "\n",
    "\n",
    "___\n",
    "<div class=\"alert alert-info\" style = \"background-color: #E0F2F7; border-color: #2E9AFE; color: #151515\">\n",
    "  <h3><i class=\"fa fa-laptop\" style=\"font-size:36px\"></i>  </h3>\n",
    "\n",
    "\n",
    "Heute ist Montag. Welcher Wochentag ist in $134$ Tagen?\n",
    "\n",
    "\n",
    "<i class=\"fa fa-life-ring\" style=\"font-size:30px\"></i> [**Tipp**](../help/help3_1aa.ipynb) \n",
    "</div>\n"
   ]
  },
  {
   "cell_type": "code",
   "execution_count": null,
   "id": "33d17b93-d0de-43e1-900f-1636a8650aaf",
   "metadata": {
    "deletable": false
   },
   "outputs": [
    {
     "name": "stdout",
     "output_type": "stream",
     "text": [
      "✔ Richtig! Wenn jetzt Montag ist, dann ist in 134 Tagen Dienstag.\n"
     ]
    }
   ],
   "source": [
    "#Antwort\n",
    "Wochentag = \"NaN\"\n",
    "\n",
    "#Ab hier nichts mehr ändern!\n",
    "check.day(Wochentag)"
   ]
  },
  {
   "cell_type": "markdown",
   "id": "71a5fd04-c84e-4d12-a3a6-2e570ced7510",
   "metadata": {
    "deletable": false,
    "editable": false
   },
   "source": [
    "#### Teil b | Es geht um die Reste!\n",
    "_________________________________________\n",
    "\n",
    "Wenn du nun eine Pizza <i class=\"fa fa-pizza-slice\" style=\"font-size:16px\"></i> auf fünf Personen aufteilen willst, dann würdest du mit einem System von fünf Töpfen arbeiten. Wie auf dem Bild unten zu sehen, gibt es dann die Töpfe von $0$ bis $4$. \n",
    "\n",
    "<i class=\"fa fa-exclamation\" style=\"font-size:16px\"></i> Achtung: es geht hier darum, dass die Töpfe die **Reste** darstellen, die beim Verteilen der Pizza übrig bleiben. \n",
    "\n",
    "**Es geht immer um den Rest R, der nach einer Division durch eine natürliche Zahl N noch übrig bleibt.** \n",
    "\n",
    "Wenn du eine Pizza mit zehn Stücken hast, dann kannst du die Pizza perfekt auf fünf Personen aufteilen und jeder bekommt zwei Stücke.\n",
    "$10:5=2\\; \\mathrm{R} \\;0$. Die $5$ ist unsere natürliche Zahl **N**, durch die wir teilen, der sog. Divisor, der in diesem Kontext Modul genant wird. \n",
    "Die $10$ ist  unser Dividend **D**, also die Zahl, welche wir teilen wollen.   \n",
    "Und $0$ ist unser Rest **R**. \n",
    "\n",
    "Genauso, wenn du eine Pizza mit $15$ Stücken auf fünf Personen aufteilen willst, dann würdest du rechnen $15:5=3\\; \\mathrm{R} \\; 0$. \n",
    "Die $3$ (unser Quotient) ist hierbei ganz egal, uns interessiert nur der Rest, der bei der Rechnung übrig bleibt. In diesem Fall der Rest 0.\n",
    "\n",
    "Die $10$ und die $15$ wären also im Topf mit der $0$, da es keine Reste gibt. Mathematisch ausgedrückt würden wir schreiben: $10 \\equiv 15 \\equiv 0$.\n",
    "\n",
    "<div style=\"text-align:center\">\n",
    "<img src=\"figs/Topf.jpg\" alt=\"Töpfe der Restklassen\" style=\"width: 800px;\" class=\"center\"/>\n",
    "</div>\n",
    "\n",
    "\n",
    "Wenn du eine Pizza mit $12$ Stücken auf $5$ Personen aufteilen willst, dann rechnest du $12:5=2\\; \\mathrm{R} \\; 2$. Die $12$ wäre also im Topf mit der $2$, da zwei Stücke übrig bleiben. Genauso wäre die eine Pizza mit $7$ Stücken im Topf $2$, da beim Aufteilen an fünf Personen auch zwei Stücke übrig bleiben.\n",
    "Also können wir schreiben $12 \\equiv 7 \\equiv 2$.\n",
    "\n",
    "<i class=\"fa fa-exclamation\" style=\"font-size:16px\"></i> Achtung, nicht verwirren lassen: das ist der dritte Topf, weil wir bei Null anfangen zu zählen. Dies kommt daher, weil es eben auch den Rest 0 geben kann. Uns interessieren immer nur die Reste.\n",
    "\n",
    "<i class=\"fa fa-lightbulb-o\" style=\"font-size:16px\"></i>\n",
    "Wir nennen diese Töpfe auch **Restklassen**, denn in ihnen befinden sich alle Zahlen, die den gleichen Rest $R$ bei einer Division durch den gleichen Divisor $N$ haben. Der Divisor $N$ bestimmt die Anzahl der Töpfe: Wenn wir z.B. den Divisor $5$ wählen, dann haben wir $5$ Töpfe. \n",
    "___\n",
    "<div class=\"alert alert-info\" style = \"background-color: #E0F2F7; border-color: #2E9AFE; color: #151515\">\n",
    "\n",
    "\n",
    "**Aufgabe:**\n",
    "\n",
    "Es kommen $26$ Personen zum Sportnachmittag. Es sollen Fußballmannschaften mit je $11$ Spieler zusammengestellt werden.\n",
    "Wie viele Spieler bleiben übrig? In welchem Topf ist die $26$?\n",
    "\n",
    "[**Tipp**](../help/help3_1b.ipynb)\n",
    "\n",
    "\n",
    "\n",
    "</div>\n"
   ]
  },
  {
   "cell_type": "code",
   "execution_count": 3,
   "id": "66ad6a07-101b-40a7-9a0e-87fc489a43d3",
   "metadata": {
    "deletable": false
   },
   "outputs": [
    {
     "name": "stdout",
     "output_type": "stream",
     "text": [
      "Falsch. Überlege noch einmal!\n"
     ]
    }
   ],
   "source": [
    "#Antwort\n",
    "topf = 1\n",
    "\n",
    "#Ab hier nichts mehr ändern!\n",
    "check.sport(topf)"
   ]
  },
  {
   "cell_type": "markdown",
   "id": "a1740c46-ddbc-4599-9be6-73c3053b4824",
   "metadata": {
    "deletable": false,
    "editable": false
   },
   "source": [
    "<div class=\"alert alert-info\" style = \"background-color: #E0F2F7; border-color: #2E9AFE; color: #151515\">\n",
    "  \n",
    "Nenne eine weitere Zahl, die in diesem Fall auch in der gleichen Restklasse wie die $26$, also die im gleichen Topf ist.\n",
    "\n",
    "[**Tipp**](../help/help3_1bb.ipynb) \n",
    "\n",
    "</div>"
   ]
  },
  {
   "cell_type": "code",
   "execution_count": 4,
   "id": "6caf904a-eb34-46a9-839b-e8b2dd23fe9c",
   "metadata": {
    "deletable": false
   },
   "outputs": [
    {
     "name": "stdout",
     "output_type": "stream",
     "text": [
      "Falsch. Diese Zahl ist nicht in der gleichen Restklasse wie 26 mod 11.\n"
     ]
    }
   ],
   "source": [
    "#Antwort\n",
    "Zahl = 1\n",
    "\n",
    "#Ab hier nichts mehr ändern!\n",
    "check.topf(Zahl)"
   ]
  },
  {
   "cell_type": "markdown",
   "id": "2933ad9f-643b-4d3e-a9c6-6d5787ecb300",
   "metadata": {
    "deletable": false,
    "editable": false
   },
   "source": [
    "#### Teil c | Modulo-Schreibweise \n",
    "_________________________________________\n",
    "Wenn man sich in der Mathematik nur für die Reste beim Teilen durch eine bestimmte Zahl interessiert, dann verwendet man die sog. Modulo-Schreibweise.\n",
    "Für die Berechnung eines Rest schriebt man z. B.  $12\\; \\mathrm{mod} \\; 5 = 2$  \n",
    "Man sagt: $12\\; \\mathrm{mod} \\; 5\\; \\mathrm{ist}\\; 2$, was soviel bedeutet wie \"Der Rest beim Teilen von 12 durch 5 ist 2\". So wie \"+\" oder \"-\" ist \"mod\" ein Rechenoperator.\n",
    "\n",
    "Oft will man nur wissen, ob zwei Zahlen den gleichen Rest bei Division durch eine bestimmte Zahl haben. Diese bestimmt Zahl nennt man Modul und man schreibt z.B. $0\\equiv10\\; (\\mathrm{mod} \\; 5)$. Man sagt: \"0 ist kongruent zu 10 modulo 5\", was soviel bedeutet wie: \"0 und 10 gehören zur gleichen Restklasse bei Division durch den Modul 5\" oder kürzer: \"0 ist kongruent zu 10 modulo 5\". \n",
    "\n",
    "$ \\equiv ...(\\mathrm{mod} \\; 5)$ ist wie $=$ eine Äquivalenzrelation, die eine Beziehung zwischen zwei Zahlen herstellt. \n",
    "Weitere Beispiele:\n",
    "\n",
    "$0\\equiv15\\; (\\mathrm{mod} \\; 5)$, $2\\equiv12\\; (\\mathrm{mod} \\; 5)$, $4\\equiv26\\; (\\mathrm{mod} \\; 11)$\n",
    "\n",
    "##### **Merksatz**  \n",
    "<div style=\"margin-left: 30px\"> \n",
    "   \n",
    "$a \\bmod m $ liefert den Rest  \n",
    "$a \\equiv b\\; (\\bmod \\;m) $ bedeutet: beide Zahlen haben den gleichen Rest\n",
    "\n",
    "</div>\n"
   ]
  },
  {
   "cell_type": "markdown",
   "id": "9affb0d1-31f7-49b0-96b6-ee16818bf95c",
   "metadata": {
    "deletable": false,
    "editable": false
   },
   "source": [
    "Aufgaben\n",
    "\n",
    "\n",
    "<div class=\"alert alert-info\" style = \"background-color: #E0F2F7; border-color: #2E9AFE; color: #151515\">  \n",
    "\n",
    "\n",
    "Trage die Kleinste natürliche Zahl ein, die in die Lücke passt.Mache dir bewusst, was es heißt, dass zwei Zahlen kongruent sind.\n",
    "\n",
    "\n",
    "1. ____ $\\equiv4\\; \\mathrm{mod} \\; 3$\n",
    "\n",
    "2. ____ $\\equiv22\\; \\mathrm{mod} \\; 3$\n",
    "\n",
    "3. ____ $\\equiv8\\; \\mathrm{mod} \\; 3$\n",
    "\n",
    "4. ____ $\\equiv18\\; \\mathrm{mod} \\; 5$\n",
    "\n",
    "5. ____ $\\equiv23\\; \\mathrm{mod} \\; 5$\n",
    "\n",
    "</div>\n"
   ]
  },
  {
   "cell_type": "code",
   "execution_count": 6,
   "id": "32e86858-c5d8-44c8-aa9b-35e6262fd4c8",
   "metadata": {
    "deletable": false
   },
   "outputs": [
    {
     "name": "stdout",
     "output_type": "stream",
     "text": [
      "Mindestens eine Antwort ist falsch. Bitte überprüfe deine Antworten.\n"
     ]
    }
   ],
   "source": [
    "#Antwort. \n",
    "\n",
    "Antwort1 = 0\n",
    "Antwort2 = 0\n",
    "Antwort3 = 0\n",
    "Antwort4 = 0\n",
    "Antwort5 = 0\n",
    "\n",
    "\n",
    "#Ab hier nichts mehr ändern!\n",
    "check.modulo2(Antwort1,Antwort2,Antwort3,Antwort4,Antwort5)"
   ]
  },
  {
   "cell_type": "markdown",
   "id": "5d680dfd-61ed-40cd-8b1c-6fd0fb9ef671",
   "metadata": {
    "deletable": false,
    "editable": false
   },
   "source": [
    "________________________\n",
    "### Aufgabe 2 | Nachricht verschlüsseln\n",
    "#### Teil a | Nachricht auswählen  \n",
    "_________________________________________\n",
    "Kommen wir zurück zur Nachrichtenverschlüsselung.\n",
    "\n",
    "Wir wollen für den Anfang erstmal nur einen Buchstaben verschlüsseln. Da wir mit Zahlen besser rechnen können, werden bei der Verschlüsselung alle Buchstaben in Zahlen umgeschrieben. Dazu nehmen wir das Alphabet und schreiben es in Zahlen von $1$ bis $26$ um. Die $1$ ist also das $A$, die $26$ das $Z$. \n",
    "\n",
    "| A | B | C | D | E | F | G | H | I | J | K | L | M | N | O | P | Q | R | S | T | U | V | W | X | Y | Z |\n",
    "| :---: | :---: | :---: | :---: | :---: | :---: | :---: | :---: | :---: | :---: | :---: | :---: | :---: | :---: |:---: | :---: | :---: | :---: | :---: | :---: | :---: |  :---: | :---: | :---: | :---: | :---: |\n",
    "| 1 | 2 | 3 | 4 | 5 | 6 | 7|8|9|10|11|12|13|14|15|16|17|18|19|20|21|22|23|24|25|26|\n",
    "\n",
    "\n",
    "<div class=\"alert alert-info\" style = \"background-color: #E0F2F7; border-color: #2E9AFE; color: #151515\">\n",
    "  <h3><i class=\"fa fa-laptop\" style=\"font-size:36px\"></i>  </h3>\n",
    "\n",
    "Wähle nun eine Nachricht $m$ (für message), d.h. eine Zahl aus, welche du verschicken willst, mit der **Bedingung**: $m<N$,\n",
    "wobei N eine der beiden Zahlen des öffentlichen Schlüssels ist. Notiere die gewählte Nachricht oben auf dem Antwortblatt.\n",
    "\n",
    "</div>"
   ]
  },
  {
   "cell_type": "markdown",
   "id": "164c5476-8f9d-49f3-8b0d-fb46137deee2",
   "metadata": {
    "deletable": false,
    "editable": false
   },
   "source": [
    "<div class=\"alert alert-info\" style = \"background-color: #E0F2F7; border-color: #2E9AFE; color: #151515\">\n",
    "  \n",
    "\n",
    "Berechne nun $m^e$ mit deinem Taschenrechner.\n",
    "\n",
    "Antwortblatt: Notiere das Ergebnis und beschreibe, welches Problem dabei auftritt bzw. auftreten kann. Das nächste Codefeld liefert das Ergebnis zur Aufgabe.\n",
    "</div>"
   ]
  },
  {
   "cell_type": "code",
   "execution_count": 8,
   "id": "5383987b-ef1e-4d45-907a-9d5f5dc11d5c",
   "metadata": {
    "deletable": false
   },
   "outputs": [
    {
     "name": "stdout",
     "output_type": "stream",
     "text": [
      "7^3 = 343\n"
     ]
    }
   ],
   "source": [
    "#Berechnet m^e\n",
    "m = 7  # Nachricht\n",
    "e = 3  # Exponent aus dem Public Key\n",
    "print(f\"{m}^{e} = {m**e}\")\n"
   ]
  },
  {
   "cell_type": "markdown",
   "id": "1b861ea1-103a-4645-affe-1bd706a14034",
   "metadata": {
    "deletable": false,
    "editable": false
   },
   "source": [
    "#### Teil b | Geheimtext c  <i class=\"fa fa-lock\" style=\"font-size:16px\"></i>\n",
    "_________________________________________\n",
    "Nun haben wir es fast geschafft unseren Klartext Nachricht $m$ zu einem Geheimtext $c$ zu verschlüsseln. Dieser ergibt sich durch modulares Potenzieren:\n",
    "<div style=\"text-align:center\">  \n",
    "\n",
    "$ c \\equiv m^e\\; \\mathrm{mod}\\; N $\n",
    "</div>\n",
    "\n",
    "\n",
    "<div class=\"alert alert-info\" style = \"background-color: #E0F2F7; border-color: #2E9AFE; color: #151515\">\n",
    " \n",
    " Notiere die Gleichung mit deinen gewählten Zahlen auf deinem Antwortblatt. Überlege dir, wie du $c$ mithilfe eines Taschenrechners bestimmen kannst und führe das auch durch. Kontrolliere dein Ergebnis mithilfe der folgenden Codezelle.\n",
    "\n",
    " [**Tipp**](../help/help4_1b.ipynb) \n",
    "\n",
    "</div>"
   ]
  },
  {
   "cell_type": "code",
   "execution_count": 7,
   "id": "0fc6a5f8-b37d-416d-bc41-012932929b61",
   "metadata": {
    "deletable": false
   },
   "outputs": [
    {
     "name": "stdout",
     "output_type": "stream",
     "text": [
      "❗ Falsch! Der Geheimtext c ist nicht korrekt. Prüfe deine Rechnung.\n"
     ]
    }
   ],
   "source": [
    "#Geheimtext c\n",
    "N = 33 # Modul aus dem Public Key\n",
    "e = 3  # Exponent aus dem Public Key\n",
    "m = 7  # Nachricht\n",
    "c = 1  # Von dir berechneter Geheimtext\n",
    "#Ab hier nichts mehr ändern!\n",
    "check.rsa_chiphretext(c,m,e,N)"
   ]
  },
  {
   "cell_type": "markdown",
   "id": "36c5225d-09b4-4f4e-974a-b36b371c0c62",
   "metadata": {
    "deletable": false,
    "editable": false
   },
   "source": [
    "_________________\n",
    "Hier gelangst du zum nächsten [Arbeitsblatt](AB6_RSA_Entschlüsseln.ipynb).\n",
    "___\n",
    "\n",
    "<a rel=“license” href=\"http://creativecommons.org/licenses/by-sa/4.0/\"><img alt=\"Creative Commons Lizenzvertrag\" style=\"border-width:0\" src=\"https://i.creativecommons.org/l/by-sa/4.0/88x31.png\" /></a> \n",
    "Dieses Werk ist lizenziert unter einer <a rel=\"license\" href=\"http://creativecommons.org/licenses/by-sa/4.0/\">Creative Commons Namensnennung - Weitergabe unter gleichen Bedingungen 4.0 International Lizenz</a>\n",
    "\n",
    "Autorin: Alicia Heck | Geändert: Sylvia Waßmer"
   ]
  }
 ],
 "metadata": {
  "kernelspec": {
   "display_name": "Python 3",
   "language": "python",
   "name": "python3"
  },
  "language_info": {
   "codemirror_mode": {
    "name": "ipython",
    "version": 3
   },
   "file_extension": ".py",
   "mimetype": "text/x-python",
   "name": "python",
   "nbconvert_exporter": "python",
   "pygments_lexer": "ipython3",
   "version": "3.13.6"
  }
 },
 "nbformat": 4,
 "nbformat_minor": 5
}
