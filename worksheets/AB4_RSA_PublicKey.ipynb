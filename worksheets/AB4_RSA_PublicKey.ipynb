{
 "cells": [
  {
   "cell_type": "markdown",
   "id": "e9389752-1db7-4d26-a6ee-ad7314c2a4d4",
   "metadata": {
    "deletable": false,
    "editable": false
   },
   "source": [
    "# Aufgabenblatt 4 | Das RSA-Verfahren: Public Key erzeugen\n",
    "__________"
   ]
  },
  {
   "cell_type": "code",
   "execution_count": 5,
   "id": "523d2962-6a15-46e4-be26-afc04a8bf100",
   "metadata": {
    "deletable": false
   },
   "outputs": [
    {
     "data": {
      "text/html": [
       "<link rel=\"stylesheet\" href=\"https://cdn.jsdelivr.net/npm/bootstrap@4.6.2/dist/css/bootstrap.min.css\">"
      ],
      "text/plain": [
       "<IPython.core.display.HTML object>"
      ]
     },
     "metadata": {},
     "output_type": "display_data"
    }
   ],
   "source": [
    "# Hier nichts ändern, nur ausführen\n",
    "import sys\n",
    "sys.path.append(\"../code\")  # Damit Python im richtigen Ordner sucht\n",
    "import check\n",
    "from IPython.display import display, HTML\n",
    "display(HTML('<link rel=\"stylesheet\" href=\"https://cdn.jsdelivr.net/npm/bootstrap@4.6.2/dist/css/bootstrap.min.css\">'))"
   ]
  },
  {
   "cell_type": "markdown",
   "id": "1881b8fe-2942-42ae-94f5-ac1dbd9a97bc",
   "metadata": {
    "deletable": false,
    "editable": false
   },
   "source": [
    "### Einleitung\n",
    "One-Time-Pad kann man zwar nicht brechen, aber der Schlüssel muss natürlich geheim bleiben. Und da der sichere Austausch des Schlüssels genauso schwierig ist, wie der sichere Austausch der Nachricht, benötigt man einen anderen Ansatz: Die ausgetauschten Daten dürfen nicht ausreichen, um an die Informationen zu kommen.\n",
    "\n",
    "Die Idee kann man sich so vorstellen: Bob verteilt überall geöffnete Vorhängeschlösser. Um ihm eine geheime Nachricht zu schicken, schriebt Alice diese auf einen Zettel, steckt diesen in eine Kiste und verschließt sie mit einem dieser Vorhängeschlösser. Sobald es einmal eingeschnappt ist, kann man es nur mit einem Schlüssel wieder öffnen.\n",
    "\n",
    "Übertragen auf ein Verschlüsselungsverfahren ist das geöffnete Vorhängeschloss ein öffentlicher Schlüssel und das Verschließen der Box entspricht einer Verschlüsselung mit diesem öffentlichen Schlüssel. Die Entschlüsselung erfolgt mit einem geheimen Schlüssel, den nur Bob kennt. \n",
    "\n",
    "Solche Verfahren nennt man **asymmetrische** Verschlüsselungsverfahren. Das bedeutet, wir verwenden zum Verschlüsseln und Entschlüsseln verschiedene Schlüssel. Ein Beispiel hierfür ist das sog. RSA-Verfahren. Der Name geht auf seine Erfinder zurück: **R**ivest-**S**hamir-**A**dleman.\n",
    "\n",
    "Vor dem Nachrichtenaustausch muss Bob zuerst einmal einen öffentlichen Schlüssel erstellen. Damit kann Alice die Nachricht verschlüsseln. Dann muss Bob seinen privaten Schlüssel berechnen und damit die Geheimbotschaft entschlüsseln.\n",
    "\n",
    "<div style=\"text-align:center\">\n",
    "<img src=\"figs/rsa.jpg\" alt=\"asymmetrisches Verschlüsselungsverfahren\" style=\"width: 600px;\" class=\"center\"/> \n",
    "</div>"
   ]
  },
  {
   "cell_type": "markdown",
   "id": "ea6f394e-f059-4ba9-bc0c-2bf043cafa4e",
   "metadata": {
    "deletable": false,
    "editable": false
   },
   "source": [
    "________________________\n",
    "### Aufgabe 1 | Public Key erstellen - Teil 1\n",
    "Auf diesem Arbeitsblatt wollen wir Schritt für Schritt, mit kleinen Zahlen, uns anschauen, wie der öffentliche Schlüssel von Bob erzeugt wird.\n",
    "Dieser besteht aus einem Zahlentupel (e; N),\n"
   ]
  },
  {
   "cell_type": "markdown",
   "id": "22513749-61fb-45e8-9319-5f34a65cc87e",
   "metadata": {
    "deletable": false,
    "editable": false
   },
   "source": [
    "#### Teil a | Primzahlen \n",
    "_________________________________________\n",
    "<div class=\"alert alert-info\" style = \"background-color: #E0F2F7; border-color: #2E9AFE; color: #151515\">\n",
    "  <h3><i class=\"fa fa-laptop\" style=\"font-size:36px\"></i>  </h3>\n",
    "Eine entscheidende Rolle beim RSA-Verfahren spielen Primzahlen.    \n",
    "Entscheide, ob es sich bei den folgenden Zahlen 6, 11, 23, 31, 42, 63 um eine Primzahl handelt. \n",
    "    \n",
    "Ersetze das `NaN` durch *ja* oder *nein*.\n",
    "</div>\n",
    "\n"
   ]
  },
  {
   "cell_type": "code",
   "execution_count": 6,
   "id": "99306a4b-bb5a-4738-bfdb-042fe0a52ac2",
   "metadata": {
    "deletable": false
   },
   "outputs": [
    {
     "name": "stderr",
     "output_type": "stream",
     "text": [
      "❗ Schade. Deine Lösungen sind leider noch nicht komplett richtig. Schau dir die Zahlen nochmals an.\n"
     ]
    }
   ],
   "source": [
    "# Antwort \n",
    "Zahl_6  = \"NaN\"\n",
    "Zahl_11 = \"NaN\"\n",
    "Zahl_23 = \"NaN\"\n",
    "Zahl_31 = \"NaN\"\n",
    "Zahl_42 = \"NaN\"\n",
    "Zahl_63 = \"NaN\"\n",
    "\n",
    "#Ab hier nichts mehr ändern!\n",
    "check.PrimzahlErkennen(Zahl_6,Zahl_11,Zahl_23,Zahl_31,Zahl_42,Zahl_63)"
   ]
  },
  {
   "cell_type": "markdown",
   "id": "2c2f7334",
   "metadata": {},
   "source": [
    "<div class=\"alert alert-info\" style = \"background-color: #E0F2F7; border-color: #2E9AFE; color: #151515\">\n",
    "  \n",
    "Beschreibe auf dem Antwortblatt einen Algorithmus, mit dem man prüfen kann, ob eine Zahl prim ist.\n",
    "    \n",
    "Zusatz: Erstelle eine Funktion isPrime(n), die \"True\" zurückgibt, falls n prim ist, und anderfalls den Wert \"False\" liefert.\n",
    "    \n",
    "</div>"
   ]
  },
  {
   "cell_type": "code",
   "execution_count": 7,
   "id": "4b48ecaf",
   "metadata": {},
   "outputs": [
    {
     "ename": "NameError",
     "evalue": "name 'n' is not defined",
     "output_type": "error",
     "traceback": [
      "\u001b[31m---------------------------------------------------------------------------\u001b[39m",
      "\u001b[31mNameError\u001b[39m                                 Traceback (most recent call last)",
      "\u001b[36mCell\u001b[39m\u001b[36m \u001b[39m\u001b[32mIn[7]\u001b[39m\u001b[32m, line 7\u001b[39m\n\u001b[32m      5\u001b[39m     \u001b[38;5;28;01mreturn\u001b[39;00m \u001b[38;5;28;01mTrue\u001b[39;00m\n\u001b[32m      6\u001b[39m \u001b[38;5;66;03m# Teste die Funktionn = 7980\u001b[39;00m\n\u001b[32m----> \u001b[39m\u001b[32m7\u001b[39m \u001b[38;5;28mprint\u001b[39m(isPrime(\u001b[43mn\u001b[49m)) \n",
      "\u001b[31mNameError\u001b[39m: name 'n' is not defined"
     ]
    }
   ],
   "source": [
    "#Primzahlprüfer\n",
    "def isPrime(n):\n",
    "    \"\"\"Prüft, ob n eine Primzahl ist.\"\"\"\n",
    "    \n",
    "    return True\n",
    "# Teste die Funktionn = 7980\n",
    "print(isPrime(n)) "
   ]
  },
  {
   "cell_type": "markdown",
   "id": "1d5e4226-7022-49b2-8298-511799c20d7d",
   "metadata": {
    "deletable": false,
    "editable": false
   },
   "source": [
    "#### Teil b | Bestimmung von N\n",
    "_________________________________________\n",
    "\n",
    "Damit Alice eine verschlüsselte Nachricht an Bob schicken kann, benötigt sie seinen öffentlichen Schlüssel - auch Public Key genannt- von der Form $(e,N)$, wobei e und N zwei Zahlen sind. Wir bestimmen zuerst N:\n",
    "\n",
    "<div class=\"alert alert-info\" style = \"background-color: #E0F2F7; border-color: #2E9AFE; color: #151515\">\n",
    "  \n",
    "Wir wählen $2$ Primzahlen $p$ und $q$. Diese dürfen nicht identisch sein. Wir wollen nicht zu große Primzahlen für den Anfang wählen, aber die $2$ darfst du nicht wählen. N ist dann einfach das Produkt dieser beiden Primzahlen. Notiere deine Werte auf dem Antwortblatt.\n",
    "\n",
    "</div>"
   ]
  },
  {
   "cell_type": "code",
   "execution_count": 10,
   "id": "d28e8ab4-a97e-4d73-862e-360dfd81bdb3",
   "metadata": {
    "deletable": false
   },
   "outputs": [
    {
     "name": "stdout",
     "output_type": "stream",
     "text": [
      "❗ Die Zahlen dürfen nicht identisch sein.\n"
     ]
    }
   ],
   "source": [
    "#Wähle zwei Primzahlen\n",
    "\n",
    "p = 1\n",
    "q = 1\n",
    "\n",
    "#Ab hier nichts mehr ändern!\n",
    "check.correctprime(p,q)"
   ]
  },
  {
   "cell_type": "code",
   "execution_count": 12,
   "id": "8627f7ef-5472-4f4f-a333-944a4fc4f6df",
   "metadata": {
    "deletable": false
   },
   "outputs": [
    {
     "name": "stdout",
     "output_type": "stream",
     "text": [
      "❗ 5 ist nicht das Produkt von 1 und 1. Bitte prüfe deine Berechnung.\n"
     ]
    }
   ],
   "source": [
    "#Produkt ausrechnen\n",
    "N = 5\n",
    "\n",
    "#Ab hier nichts mehr ändern!\n",
    "check.product(p,q,N)    "
   ]
  },
  {
   "cell_type": "markdown",
   "id": "5e406511-bce7-4c98-814e-14c1adb71d15",
   "metadata": {
    "deletable": false,
    "editable": false
   },
   "source": [
    "Eine Komponente für den **Public Key** $(e,N)$ haben wir somit. Nun berechnen wir die andere Komponente."
   ]
  },
  {
   "cell_type": "markdown",
   "id": "97ab57da-707a-4631-b84e-15544ba7da43",
   "metadata": {
    "deletable": false,
    "editable": false
   },
   "source": [
    "_____________\n",
    "### Aufgabe 2 | Bestimmung von $e$\n",
    "#### Teil a | Primfaktorzerlegung\n",
    "_________________________________________\n",
    "\n",
    "\n",
    "<div id=\"definition\" class=\"alert alert-success\">\n",
    "  <h2>  Primfaktorzerlegung</h2>\n",
    "    <ol>      \n",
    " Jede Zahl, die keine Primzahl ist, kann eindeutig dargestellt werden als das Produkt von Primzahlen.\n",
    "    </ol>\n",
    "</div>\n",
    "\n",
    "**Beispiele:** \n",
    "\n",
    "$24 = 2 \\cdot  2 \\cdot 2 \\cdot 3$ \n",
    "\n",
    "$12 = 2 \\cdot 2 \\cdot 3$\n",
    "           \n",
    "$48 = 2 \\cdot 2 \\cdot 2 \\cdot 2 \\cdot 3$\n",
    "\n"
   ]
  },
  {
   "cell_type": "markdown",
   "id": "fc23fbd7-cdb8-4d32-960d-24b4fa192e1e",
   "metadata": {
    "deletable": false,
    "editable": false
   },
   "source": [
    "<div class=\"alert alert-info\" style = \"background-color: #E0F2F7; border-color: #2E9AFE; color: #151515\">\n",
    "     \n",
    "Auf dem Antwortblatt: Bestimme die Primfaktorzerlegungen von `52` und `108`.\n",
    "</div>\n",
    "\n"
   ]
  },
  {
   "cell_type": "code",
   "execution_count": null,
   "id": "f4eaafcf-df10-496a-8155-b50de9919ae8",
   "metadata": {
    "deletable": false
   },
   "outputs": [
    {
     "name": "stdout",
     "output_type": "stream",
     "text": [
      "❗ Primfaktorzerlegung von 52 ist falsch. Deine Eingabe: 2*2. Richtig: 2*2*13\n",
      "❗ Primfaktorzerlegung von 108 ist falsch. Deine Eingabe: 2*2. Richtig: 2*2*3*3*3\n"
     ]
    }
   ],
   "source": [
    "#Antwort: Zerlegungen als String übergeben\n",
    "primfaktorzerlegung_52 = \"2*2\"\n",
    "primfaktorzerlegung_108 = \"2*2\"\n",
    "\n",
    "#Ab hier nichts mehr ändern!\n",
    "check.primfaktorzerlegung(primfaktorzerlegung_52,primfaktorzerlegung_108)"
   ]
  },
  {
   "cell_type": "markdown",
   "id": "a576a768",
   "metadata": {},
   "source": [
    "<div class=\"alert alert-info\" style = \"background-color: #E0F2F7; border-color: #2E9AFE; color: #151515\">\n",
    "     \n",
    "Zusatzaufgabe (anpruchsvoll): Programmiere eine eigene Funktion prime_factors(n), welche die Primfaktorzerlegung als Liste liefert.\n",
    "</div>\n"
   ]
  },
  {
   "cell_type": "code",
   "execution_count": null,
   "id": "73a93033",
   "metadata": {},
   "outputs": [
    {
     "name": "stdout",
     "output_type": "stream",
     "text": [
      "[2, 2, 13]\n"
     ]
    }
   ],
   "source": [
    "#Bestimmung der Primfaktorzerlegung mit Funktion\n",
    "def prime_factors(n):\n",
    "    \"\"\"Gibt die Primfaktorzerlegung von n als Liste zurück.\"\"\"\n",
    "    factors = []\n",
    "    \n",
    "    return factors\n",
    "\n",
    "# Teste die Funktion\n",
    "n=52\n",
    "print(prime_factors(n))\n"
   ]
  },
  {
   "cell_type": "markdown",
   "id": "2933ad9f-643b-4d3e-a9c6-6d5787ecb300",
   "metadata": {
    "deletable": false,
    "editable": false
   },
   "source": [
    "\n",
    "#### Teil b | Der größte gemeinsame Teiler (ggT)\n",
    "____________\n",
    "\n",
    "<div id=\"definition\" class=\"alert alert-success\">\n",
    "  <h2> Definition ggT</h2>\n",
    "    <ol>      \n",
    "Der ggT von zwei natürlichen Zahlen a und b, ist die größte natürliche Zahl, durch die beide Zahlen sich ohne Rest teilen lassen. \n",
    "Die Schreibweise lautet ggT(a,b). Haben a und b nur 1 als gemeinsamen Teiler, dann ist ggT(a,b) = 1 und man sagt,  die Zahlen a und b sind teilerfremd.\n",
    "    </ol>\n",
    "</div>\n",
    "\n",
    "\n",
    "**Beispiele:** \n",
    "\n",
    "$\\mathrm{ggT}(9,12) = 3$\n",
    "\n",
    "$\\mathrm{ggT}(15,25) = 5$\n",
    "\n",
    "$\\mathrm{ggT}(4,12) = 4$\n",
    "\n",
    "$\\mathrm{ggT}(11,12) = 1$\n"
   ]
  },
  {
   "cell_type": "markdown",
   "id": "1984e59e-d437-4902-89e7-386c770a84f0",
   "metadata": {
    "deletable": false,
    "editable": false
   },
   "source": [
    "<div class=\"alert alert-info\" style = \"background-color: #E0F2F7; border-color: #2E9AFE; color: #151515\">\n",
    "  \n",
    "Bestimme im Folgenden  $\\mathrm{ggT}(3,17)$ , $\\mathrm{ggT}(16,32)$ , $\\mathrm{ggT}(30,50)$ und $\\mathrm{ggT}(12,27)$ .\n",
    "\n",
    "[**Tipp**](../help/help_AB3_1b.ipynb) \n",
    "</div>"
   ]
  },
  {
   "cell_type": "code",
   "execution_count": null,
   "id": "aea9c694-f57f-4e77-bc23-3d7396601241",
   "metadata": {
    "deletable": false
   },
   "outputs": [
    {
     "name": "stdout",
     "output_type": "stream",
     "text": [
      "❌ ggT(16,32) ist falsch. Deine Eingabe: 2. Richtig: 16\n"
     ]
    }
   ],
   "source": [
    "#Antwort\n",
    "ggT_16_32 = 1\n",
    "ggT_3_17  = 1\n",
    "ggT_30_50 = 1\n",
    "ggT_12_27 = 1\n",
    "\n",
    "#Ab hier nichts mehr ändern!\n",
    "check.pruefe_ggT(ggT_16_32,ggT_3_17,ggT_30_50,ggT_12_27)"
   ]
  },
  {
   "cell_type": "markdown",
   "id": "fa15a530-5803-4726-adf3-f056edc2aa62",
   "metadata": {
    "deletable": false,
    "editable": false
   },
   "source": [
    "#### Teil c | Eulersche Phi-Funktion\n",
    "_________________________________________\n",
    "\n",
    " **Eulersche Phi-Funktion:**\n",
    "  \n",
    "Die Eulersche Phi-Funktion ist ein praktisches Hilfsmittel, das wir nutzen können. Sie wird mit dem griechischen Buchstaben $\\varphi$ beschrieben: $\\varphi(n)=a$. \n",
    "\n",
    "Die Funktion schaut sich alle natürlichen Zahlen kleiner gleich $n$ an und überprüft, wie viele davon teilerfremd zu $n$ sind. \n",
    "Je höher der Funktionswert $a$ ist, desto mehr Zahlen sind teilerfremd zu der Zahl $n$.\n",
    "\n",
    "\n",
    "**Beispiele:** \n",
    "\n",
    "$\\varphi (5)=4$\n",
    "\n",
    "$\\varphi (6)=2$\n",
    "\n",
    "$\\varphi (7)=6$\n",
    "\n",
    "$\\varphi (8)=4$\n",
    "\n",
    "$\\varphi (11)=10$\n",
    "\n",
    "<div class=\"alert alert-info\" style=\"background-color: #E0F2F7; border-color: #2E9AFE; color: #151515\">\n",
    "\n",
    "Was fällt dir auf, wenn du die Funktionsargumente $n$ und die Funktionswerte $\\varphi(n)$ ansiehst? Notiere auf deinem Antwortblatt deine Erkenntnis.\n",
    "[**Tipp**](../help/help2_1d.ipynb)   \n",
    " \n",
    "Programmiere die Euler'sche Phi-Funktion phi(n). Die Funktion math.gcd(a,b) liefert den größten gemeinsamen Teiler von a und b.\n",
    "</div>\n",
    "\n"
   ]
  },
  {
   "cell_type": "code",
   "execution_count": 1,
   "id": "48285046",
   "metadata": {},
   "outputs": [
    {
     "name": "stdout",
     "output_type": "stream",
     "text": [
      "0\n"
     ]
    }
   ],
   "source": [
    "#Euler'sche Phi-Funktion\n",
    "import math\n",
    "def phi(n):\n",
    "    \"\"\"Berechnet die Eulersche Phi-Funktion φ(n).\"\"\"\n",
    "    count = 0\n",
    "    \n",
    "    return count\n",
    "# Teste die Funktion\n",
    "N = 15\n",
    "print(phi(N))   "
   ]
  },
  {
   "cell_type": "markdown",
   "id": "b8d3ac53-bfc4-4334-b74e-1aeaa6ada776",
   "metadata": {
    "deletable": false,
    "editable": false
   },
   "source": [
    "#### Teil d | Wahl von $e$ \n",
    "_________________________________________\n",
    "Mithilfe von  $\\varphi(N)$ können wir $e$ festlegen. Infrage kommt jede natürlich Zahl, die folgende Bedingungen erfüllt:  \n",
    "\n",
    " $1<e<\\varphi(N)$ und $\\mathrm{ggT}(e,\\varphi(N))=1$.\n",
    "\n",
    "\n",
    "<div class=\"alert alert-info\" style = \"background-color: #E0F2F7; border-color: #2E9AFE; color: #151515\">\n",
    "  \n",
    "Berechne $\\varphi(N)$ und lege damit eine geeignete Zahl e fest. Um gut mit dieser weiterrechnen zu können, solltest du $e < 30$ wählen.  \n",
    "Prüfe deine Wahl mithilfe der folgenden Codezelle.\n",
    "\n",
    "</div>"
   ]
  },
  {
   "cell_type": "code",
   "execution_count": null,
   "id": "e508ace1-eaf3-4595-8438-2b07e008cfb4",
   "metadata": {
    "deletable": false
   },
   "outputs": [
    {
     "name": "stdout",
     "output_type": "stream",
     "text": [
      "❌ Ungültig: ggT(e, φ(N)) muss 1 sein. Dein ggT: 10\n"
     ]
    }
   ],
   "source": [
    "#Wähle e\n",
    "N = 50  # Beispielwert, bitte durch deinen Wert von oben anpassen\n",
    "e = 10 # Beispielwert, bitte anpassen\n",
    "\n",
    "#Ab hier nichts mehr ändern!\n",
    "check.pruefe_public(e,N)"
   ]
  },
  {
   "cell_type": "markdown",
   "id": "9f21dba5-3a2b-4de3-834c-1446ba384f2a",
   "metadata": {
    "deletable": false,
    "editable": false
   },
   "source": [
    "<div class=\"alert alert-info\" style = \"background-color: #E0F2F7; border-color: #2E9AFE; color: #151515\">\n",
    "  \n",
    "Super, nun hast du einen öffentlichen Schlüssel für Bob erstellt. Schreibe ihn dir oben auf dem Antwortblatt und wenn du willst auch hier auf.\n",
    "\n",
    "**Public Key** $(e,N)=$\n",
    "</div>"
   ]
  },
  {
   "cell_type": "markdown",
   "id": "156efbf7-506b-4bd1-8913-2d53831c6edb",
   "metadata": {
    "deletable": false,
    "editable": false
   },
   "source": [
    "__________________\n",
    "Hier gelangst du zum nächsten [Arbeitsblatt](AB5_RSA_Verschluesseln.ipynb).\n",
    "___\n",
    "\n",
    "<a rel=“license” href=\"http://creativecommons.org/licenses/by-sa/4.0/\"><img alt=\"Creative Commons Lizenzvertrag\" style=\"border-width:0\" src=\"https://i.creativecommons.org/l/by-sa/4.0/88x31.png\" /></a> \n",
    "Dieses Werk ist lizenziert unter einer <a rel=\"license\" href=\"http://creativecommons.org/licenses/by-sa/4.0/\">Creative Commons Namensnennung - Weitergabe unter gleichen Bedingungen 4.0 International Lizenz</a>\n",
    "\n",
    "Autorin: Alicia Heck | Geändert durch Sylvia Waßmer"
   ]
  }
 ],
 "metadata": {
  "kernelspec": {
   "display_name": "Python 3",
   "language": "python",
   "name": "python3"
  },
  "language_info": {
   "codemirror_mode": {
    "name": "ipython",
    "version": 3
   },
   "file_extension": ".py",
   "mimetype": "text/x-python",
   "name": "python",
   "nbconvert_exporter": "python",
   "pygments_lexer": "ipython3",
   "version": "3.13.6"
  }
 },
 "nbformat": 4,
 "nbformat_minor": 5
}
